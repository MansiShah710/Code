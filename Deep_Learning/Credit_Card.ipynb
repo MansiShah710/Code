{
 "cells": [
  {
   "cell_type": "markdown",
   "metadata": {},
   "source": [
    "###  Build a model to predict credit card defaults."
   ]
  },
  {
   "cell_type": "markdown",
   "metadata": {},
   "source": [
    "### Import Libraries"
   ]
  },
  {
   "cell_type": "code",
   "execution_count": 1,
   "metadata": {},
   "outputs": [
    {
     "name": "stdout",
     "output_type": "stream",
     "text": [
      "2.0.0\n"
     ]
    },
    {
     "name": "stderr",
     "output_type": "stream",
     "text": [
      "Using TensorFlow backend.\n"
     ]
    }
   ],
   "source": [
    "%load_ext tensorboard\n",
    "from numpy.random import seed\n",
    "seed(2)\n",
    "import tensorflow as tf\n",
    "from tensorflow import keras\n",
    "from IPython import display\n",
    "from matplotlib import cm\n",
    "from matplotlib import gridspec\n",
    "from matplotlib import pyplot as plt\n",
    "import numpy as np\n",
    "import pandas as pd\n",
    "from tensorflow.python.data import Dataset\n",
    "from sklearn import preprocessing\n",
    "from sklearn.preprocessing import MinMaxScaler\n",
    "from sklearn.preprocessing import StandardScaler\n",
    "from numpy import loadtxt\n",
    "from keras.models import Sequential\n",
    "from keras.layers import Dense\n",
    "print(tf.__version__)\n",
    "import pandas as pd"
   ]
  },
  {
   "cell_type": "markdown",
   "metadata": {},
   "source": [
    "### Import Data"
   ]
  },
  {
   "cell_type": "code",
   "execution_count": 3,
   "metadata": {},
   "outputs": [],
   "source": [
    "pd.options.display.max_rows = 10\n",
    "pd.options.display.float_format = '{:.1f}'.format\n",
    "\n",
    "credit_dataframe = pd.read_excel('default of credit card clients.xls', skiprows=1)\n",
    "\n",
    "credit_dataframe = credit_dataframe.reindex(np.random.permutation(credit_dataframe.index))"
   ]
  },
  {
   "cell_type": "code",
   "execution_count": 4,
   "metadata": {},
   "outputs": [
    {
     "data": {
      "text/html": [
       "<div>\n",
       "<style scoped>\n",
       "    .dataframe tbody tr th:only-of-type {\n",
       "        vertical-align: middle;\n",
       "    }\n",
       "\n",
       "    .dataframe tbody tr th {\n",
       "        vertical-align: top;\n",
       "    }\n",
       "\n",
       "    .dataframe thead th {\n",
       "        text-align: right;\n",
       "    }\n",
       "</style>\n",
       "<table border=\"1\" class=\"dataframe\">\n",
       "  <thead>\n",
       "    <tr style=\"text-align: right;\">\n",
       "      <th></th>\n",
       "      <th>LIMIT_BAL</th>\n",
       "      <th>SEX</th>\n",
       "      <th>EDUCATION</th>\n",
       "      <th>MARRIAGE</th>\n",
       "      <th>AGE</th>\n",
       "      <th>PAY_0</th>\n",
       "      <th>PAY_2</th>\n",
       "      <th>PAY_3</th>\n",
       "      <th>PAY_4</th>\n",
       "      <th>PAY_5</th>\n",
       "      <th>...</th>\n",
       "      <th>BILL_AMT3</th>\n",
       "      <th>BILL_AMT4</th>\n",
       "      <th>BILL_AMT5</th>\n",
       "      <th>BILL_AMT6</th>\n",
       "      <th>PAY_AMT1</th>\n",
       "      <th>PAY_AMT2</th>\n",
       "      <th>PAY_AMT3</th>\n",
       "      <th>PAY_AMT4</th>\n",
       "      <th>PAY_AMT5</th>\n",
       "      <th>PAY_AMT6</th>\n",
       "    </tr>\n",
       "  </thead>\n",
       "  <tbody>\n",
       "    <tr>\n",
       "      <th>7945</th>\n",
       "      <td>20000</td>\n",
       "      <td>2</td>\n",
       "      <td>2</td>\n",
       "      <td>1</td>\n",
       "      <td>37</td>\n",
       "      <td>0</td>\n",
       "      <td>0</td>\n",
       "      <td>2</td>\n",
       "      <td>0</td>\n",
       "      <td>0</td>\n",
       "      <td>...</td>\n",
       "      <td>19722</td>\n",
       "      <td>19616</td>\n",
       "      <td>19228</td>\n",
       "      <td>19878</td>\n",
       "      <td>3200</td>\n",
       "      <td>0</td>\n",
       "      <td>830</td>\n",
       "      <td>750</td>\n",
       "      <td>1000</td>\n",
       "      <td>282</td>\n",
       "    </tr>\n",
       "    <tr>\n",
       "      <th>16536</th>\n",
       "      <td>500000</td>\n",
       "      <td>1</td>\n",
       "      <td>2</td>\n",
       "      <td>2</td>\n",
       "      <td>26</td>\n",
       "      <td>0</td>\n",
       "      <td>0</td>\n",
       "      <td>0</td>\n",
       "      <td>0</td>\n",
       "      <td>0</td>\n",
       "      <td>...</td>\n",
       "      <td>129327</td>\n",
       "      <td>130136</td>\n",
       "      <td>127699</td>\n",
       "      <td>124623</td>\n",
       "      <td>6005</td>\n",
       "      <td>6005</td>\n",
       "      <td>6094</td>\n",
       "      <td>4161</td>\n",
       "      <td>5021</td>\n",
       "      <td>4350</td>\n",
       "    </tr>\n",
       "    <tr>\n",
       "      <th>26726</th>\n",
       "      <td>150000</td>\n",
       "      <td>1</td>\n",
       "      <td>1</td>\n",
       "      <td>2</td>\n",
       "      <td>26</td>\n",
       "      <td>-2</td>\n",
       "      <td>-1</td>\n",
       "      <td>0</td>\n",
       "      <td>0</td>\n",
       "      <td>-1</td>\n",
       "      <td>...</td>\n",
       "      <td>1401</td>\n",
       "      <td>2360</td>\n",
       "      <td>70</td>\n",
       "      <td>420</td>\n",
       "      <td>360</td>\n",
       "      <td>1041</td>\n",
       "      <td>1000</td>\n",
       "      <td>70</td>\n",
       "      <td>660</td>\n",
       "      <td>0</td>\n",
       "    </tr>\n",
       "    <tr>\n",
       "      <th>16333</th>\n",
       "      <td>60000</td>\n",
       "      <td>2</td>\n",
       "      <td>2</td>\n",
       "      <td>1</td>\n",
       "      <td>36</td>\n",
       "      <td>0</td>\n",
       "      <td>0</td>\n",
       "      <td>0</td>\n",
       "      <td>0</td>\n",
       "      <td>0</td>\n",
       "      <td>...</td>\n",
       "      <td>44291</td>\n",
       "      <td>41241</td>\n",
       "      <td>29534</td>\n",
       "      <td>29297</td>\n",
       "      <td>2000</td>\n",
       "      <td>3042</td>\n",
       "      <td>1433</td>\n",
       "      <td>1012</td>\n",
       "      <td>1029</td>\n",
       "      <td>1074</td>\n",
       "    </tr>\n",
       "    <tr>\n",
       "      <th>20629</th>\n",
       "      <td>220000</td>\n",
       "      <td>1</td>\n",
       "      <td>1</td>\n",
       "      <td>2</td>\n",
       "      <td>29</td>\n",
       "      <td>0</td>\n",
       "      <td>0</td>\n",
       "      <td>0</td>\n",
       "      <td>0</td>\n",
       "      <td>0</td>\n",
       "      <td>...</td>\n",
       "      <td>24998</td>\n",
       "      <td>23965</td>\n",
       "      <td>23865</td>\n",
       "      <td>23667</td>\n",
       "      <td>1410</td>\n",
       "      <td>1417</td>\n",
       "      <td>1333</td>\n",
       "      <td>731</td>\n",
       "      <td>1019</td>\n",
       "      <td>1045</td>\n",
       "    </tr>\n",
       "  </tbody>\n",
       "</table>\n",
       "<p>5 rows × 23 columns</p>\n",
       "</div>"
      ],
      "text/plain": [
       "       LIMIT_BAL  SEX  EDUCATION  MARRIAGE  AGE  PAY_0  PAY_2  PAY_3  PAY_4  \\\n",
       "7945       20000    2          2         1   37      0      0      2      0   \n",
       "16536     500000    1          2         2   26      0      0      0      0   \n",
       "26726     150000    1          1         2   26     -2     -1      0      0   \n",
       "16333      60000    2          2         1   36      0      0      0      0   \n",
       "20629     220000    1          1         2   29      0      0      0      0   \n",
       "\n",
       "       PAY_5  ...  BILL_AMT3  BILL_AMT4  BILL_AMT5  BILL_AMT6  PAY_AMT1  \\\n",
       "7945       0  ...      19722      19616      19228      19878      3200   \n",
       "16536      0  ...     129327     130136     127699     124623      6005   \n",
       "26726     -1  ...       1401       2360         70        420       360   \n",
       "16333      0  ...      44291      41241      29534      29297      2000   \n",
       "20629      0  ...      24998      23965      23865      23667      1410   \n",
       "\n",
       "       PAY_AMT2  PAY_AMT3  PAY_AMT4  PAY_AMT5  PAY_AMT6  \n",
       "7945          0       830       750      1000       282  \n",
       "16536      6005      6094      4161      5021      4350  \n",
       "26726      1041      1000        70       660         0  \n",
       "16333      3042      1433      1012      1029      1074  \n",
       "20629      1417      1333       731      1019      1045  \n",
       "\n",
       "[5 rows x 23 columns]"
      ]
     },
     "execution_count": 4,
     "metadata": {},
     "output_type": "execute_result"
    }
   ],
   "source": [
    "# create a dataframe for independent variables\n",
    "selected_features = credit_dataframe.drop(columns = ['ID','default payment next month'])\n",
    "selected_features.head()"
   ]
  },
  {
   "cell_type": "code",
   "execution_count": 5,
   "metadata": {},
   "outputs": [],
   "source": [
    "# Dataframe for target variable\n",
    "output_targets = pd.DataFrame(credit_dataframe, columns = [\"default payment next month\"])"
   ]
  },
  {
   "cell_type": "code",
   "execution_count": 6,
   "metadata": {},
   "outputs": [
    {
     "data": {
      "text/plain": [
       "(30000, 23)"
      ]
     },
     "execution_count": 6,
     "metadata": {},
     "output_type": "execute_result"
    }
   ],
   "source": [
    "# Check the rows and columns\n",
    "selected_features.shape"
   ]
  },
  {
   "cell_type": "code",
   "execution_count": 7,
   "metadata": {},
   "outputs": [
    {
     "data": {
      "text/html": [
       "<div>\n",
       "<style scoped>\n",
       "    .dataframe tbody tr th:only-of-type {\n",
       "        vertical-align: middle;\n",
       "    }\n",
       "\n",
       "    .dataframe tbody tr th {\n",
       "        vertical-align: top;\n",
       "    }\n",
       "\n",
       "    .dataframe thead th {\n",
       "        text-align: right;\n",
       "    }\n",
       "</style>\n",
       "<table border=\"1\" class=\"dataframe\">\n",
       "  <thead>\n",
       "    <tr style=\"text-align: right;\">\n",
       "      <th></th>\n",
       "      <th>LIMIT_BAL</th>\n",
       "      <th>SEX</th>\n",
       "      <th>EDUCATION</th>\n",
       "      <th>MARRIAGE</th>\n",
       "      <th>AGE</th>\n",
       "      <th>PAY_0</th>\n",
       "      <th>PAY_2</th>\n",
       "      <th>PAY_3</th>\n",
       "      <th>PAY_4</th>\n",
       "      <th>PAY_5</th>\n",
       "      <th>...</th>\n",
       "      <th>BILL_AMT3</th>\n",
       "      <th>BILL_AMT4</th>\n",
       "      <th>BILL_AMT5</th>\n",
       "      <th>BILL_AMT6</th>\n",
       "      <th>PAY_AMT1</th>\n",
       "      <th>PAY_AMT2</th>\n",
       "      <th>PAY_AMT3</th>\n",
       "      <th>PAY_AMT4</th>\n",
       "      <th>PAY_AMT5</th>\n",
       "      <th>PAY_AMT6</th>\n",
       "    </tr>\n",
       "  </thead>\n",
       "  <tbody>\n",
       "    <tr>\n",
       "      <th>7945</th>\n",
       "      <td>-1.1</td>\n",
       "      <td>0.8</td>\n",
       "      <td>0.2</td>\n",
       "      <td>-1.1</td>\n",
       "      <td>0.2</td>\n",
       "      <td>0.0</td>\n",
       "      <td>0.1</td>\n",
       "      <td>1.8</td>\n",
       "      <td>0.2</td>\n",
       "      <td>0.2</td>\n",
       "      <td>...</td>\n",
       "      <td>-0.4</td>\n",
       "      <td>-0.4</td>\n",
       "      <td>-0.3</td>\n",
       "      <td>-0.3</td>\n",
       "      <td>-0.1</td>\n",
       "      <td>-0.2</td>\n",
       "      <td>-0.2</td>\n",
       "      <td>-0.3</td>\n",
       "      <td>-0.2</td>\n",
       "      <td>-0.3</td>\n",
       "    </tr>\n",
       "    <tr>\n",
       "      <th>16536</th>\n",
       "      <td>2.6</td>\n",
       "      <td>-1.2</td>\n",
       "      <td>0.2</td>\n",
       "      <td>0.9</td>\n",
       "      <td>-1.0</td>\n",
       "      <td>0.0</td>\n",
       "      <td>0.1</td>\n",
       "      <td>0.1</td>\n",
       "      <td>0.2</td>\n",
       "      <td>0.2</td>\n",
       "      <td>...</td>\n",
       "      <td>1.2</td>\n",
       "      <td>1.3</td>\n",
       "      <td>1.4</td>\n",
       "      <td>1.4</td>\n",
       "      <td>0.0</td>\n",
       "      <td>-0.0</td>\n",
       "      <td>0.0</td>\n",
       "      <td>-0.0</td>\n",
       "      <td>0.0</td>\n",
       "      <td>-0.0</td>\n",
       "    </tr>\n",
       "    <tr>\n",
       "      <th>26726</th>\n",
       "      <td>-0.1</td>\n",
       "      <td>-1.2</td>\n",
       "      <td>-1.1</td>\n",
       "      <td>0.9</td>\n",
       "      <td>-1.0</td>\n",
       "      <td>-1.8</td>\n",
       "      <td>-0.7</td>\n",
       "      <td>0.1</td>\n",
       "      <td>0.2</td>\n",
       "      <td>-0.6</td>\n",
       "      <td>...</td>\n",
       "      <td>-0.7</td>\n",
       "      <td>-0.6</td>\n",
       "      <td>-0.7</td>\n",
       "      <td>-0.6</td>\n",
       "      <td>-0.3</td>\n",
       "      <td>-0.2</td>\n",
       "      <td>-0.2</td>\n",
       "      <td>-0.3</td>\n",
       "      <td>-0.3</td>\n",
       "      <td>-0.3</td>\n",
       "    </tr>\n",
       "    <tr>\n",
       "      <th>16333</th>\n",
       "      <td>-0.8</td>\n",
       "      <td>0.8</td>\n",
       "      <td>0.2</td>\n",
       "      <td>-1.1</td>\n",
       "      <td>0.1</td>\n",
       "      <td>0.0</td>\n",
       "      <td>0.1</td>\n",
       "      <td>0.1</td>\n",
       "      <td>0.2</td>\n",
       "      <td>0.2</td>\n",
       "      <td>...</td>\n",
       "      <td>-0.0</td>\n",
       "      <td>-0.0</td>\n",
       "      <td>-0.2</td>\n",
       "      <td>-0.2</td>\n",
       "      <td>-0.2</td>\n",
       "      <td>-0.1</td>\n",
       "      <td>-0.2</td>\n",
       "      <td>-0.2</td>\n",
       "      <td>-0.2</td>\n",
       "      <td>-0.2</td>\n",
       "    </tr>\n",
       "    <tr>\n",
       "      <th>20629</th>\n",
       "      <td>0.4</td>\n",
       "      <td>-1.2</td>\n",
       "      <td>-1.1</td>\n",
       "      <td>0.9</td>\n",
       "      <td>-0.7</td>\n",
       "      <td>0.0</td>\n",
       "      <td>0.1</td>\n",
       "      <td>0.1</td>\n",
       "      <td>0.2</td>\n",
       "      <td>0.2</td>\n",
       "      <td>...</td>\n",
       "      <td>-0.3</td>\n",
       "      <td>-0.3</td>\n",
       "      <td>-0.3</td>\n",
       "      <td>-0.3</td>\n",
       "      <td>-0.2</td>\n",
       "      <td>-0.2</td>\n",
       "      <td>-0.2</td>\n",
       "      <td>-0.3</td>\n",
       "      <td>-0.2</td>\n",
       "      <td>-0.2</td>\n",
       "    </tr>\n",
       "    <tr>\n",
       "      <th>321</th>\n",
       "      <td>1.3</td>\n",
       "      <td>0.8</td>\n",
       "      <td>-1.1</td>\n",
       "      <td>0.9</td>\n",
       "      <td>-0.9</td>\n",
       "      <td>0.0</td>\n",
       "      <td>0.1</td>\n",
       "      <td>0.1</td>\n",
       "      <td>0.2</td>\n",
       "      <td>0.2</td>\n",
       "      <td>...</td>\n",
       "      <td>1.7</td>\n",
       "      <td>1.7</td>\n",
       "      <td>1.7</td>\n",
       "      <td>1.1</td>\n",
       "      <td>0.9</td>\n",
       "      <td>-0.0</td>\n",
       "      <td>-0.0</td>\n",
       "      <td>0.1</td>\n",
       "      <td>-0.1</td>\n",
       "      <td>2.5</td>\n",
       "    </tr>\n",
       "    <tr>\n",
       "      <th>9579</th>\n",
       "      <td>-0.9</td>\n",
       "      <td>-1.2</td>\n",
       "      <td>1.5</td>\n",
       "      <td>-1.1</td>\n",
       "      <td>1.6</td>\n",
       "      <td>0.0</td>\n",
       "      <td>0.1</td>\n",
       "      <td>0.1</td>\n",
       "      <td>1.9</td>\n",
       "      <td>0.2</td>\n",
       "      <td>...</td>\n",
       "      <td>0.3</td>\n",
       "      <td>-0.4</td>\n",
       "      <td>-0.4</td>\n",
       "      <td>-0.4</td>\n",
       "      <td>-0.2</td>\n",
       "      <td>-0.1</td>\n",
       "      <td>-0.3</td>\n",
       "      <td>-0.2</td>\n",
       "      <td>-0.2</td>\n",
       "      <td>-0.2</td>\n",
       "    </tr>\n",
       "    <tr>\n",
       "      <th>27004</th>\n",
       "      <td>-0.8</td>\n",
       "      <td>-1.2</td>\n",
       "      <td>-1.1</td>\n",
       "      <td>0.9</td>\n",
       "      <td>-0.5</td>\n",
       "      <td>0.0</td>\n",
       "      <td>0.1</td>\n",
       "      <td>0.1</td>\n",
       "      <td>0.2</td>\n",
       "      <td>-1.5</td>\n",
       "      <td>...</td>\n",
       "      <td>0.1</td>\n",
       "      <td>-0.7</td>\n",
       "      <td>-0.7</td>\n",
       "      <td>-0.6</td>\n",
       "      <td>-0.2</td>\n",
       "      <td>-0.1</td>\n",
       "      <td>-0.3</td>\n",
       "      <td>-0.3</td>\n",
       "      <td>-0.3</td>\n",
       "      <td>-0.3</td>\n",
       "    </tr>\n",
       "    <tr>\n",
       "      <th>2360</th>\n",
       "      <td>-1.1</td>\n",
       "      <td>0.8</td>\n",
       "      <td>0.2</td>\n",
       "      <td>-1.1</td>\n",
       "      <td>0.6</td>\n",
       "      <td>-0.9</td>\n",
       "      <td>1.8</td>\n",
       "      <td>-0.7</td>\n",
       "      <td>-0.7</td>\n",
       "      <td>0.2</td>\n",
       "      <td>...</td>\n",
       "      <td>-0.7</td>\n",
       "      <td>-0.5</td>\n",
       "      <td>-0.6</td>\n",
       "      <td>-0.6</td>\n",
       "      <td>-0.3</td>\n",
       "      <td>-0.2</td>\n",
       "      <td>0.2</td>\n",
       "      <td>-0.3</td>\n",
       "      <td>-0.3</td>\n",
       "      <td>-0.2</td>\n",
       "    </tr>\n",
       "    <tr>\n",
       "      <th>6593</th>\n",
       "      <td>-0.9</td>\n",
       "      <td>-1.2</td>\n",
       "      <td>0.2</td>\n",
       "      <td>0.9</td>\n",
       "      <td>2.2</td>\n",
       "      <td>0.0</td>\n",
       "      <td>0.1</td>\n",
       "      <td>0.1</td>\n",
       "      <td>0.2</td>\n",
       "      <td>0.2</td>\n",
       "      <td>...</td>\n",
       "      <td>0.0</td>\n",
       "      <td>0.0</td>\n",
       "      <td>-0.3</td>\n",
       "      <td>-0.3</td>\n",
       "      <td>-0.2</td>\n",
       "      <td>-0.2</td>\n",
       "      <td>-0.2</td>\n",
       "      <td>-0.3</td>\n",
       "      <td>-0.3</td>\n",
       "      <td>-0.3</td>\n",
       "    </tr>\n",
       "  </tbody>\n",
       "</table>\n",
       "<p>10 rows × 23 columns</p>\n",
       "</div>"
      ],
      "text/plain": [
       "       LIMIT_BAL  SEX  EDUCATION  MARRIAGE  AGE  PAY_0  PAY_2  PAY_3  PAY_4  \\\n",
       "7945        -1.1  0.8        0.2      -1.1  0.2    0.0    0.1    1.8    0.2   \n",
       "16536        2.6 -1.2        0.2       0.9 -1.0    0.0    0.1    0.1    0.2   \n",
       "26726       -0.1 -1.2       -1.1       0.9 -1.0   -1.8   -0.7    0.1    0.2   \n",
       "16333       -0.8  0.8        0.2      -1.1  0.1    0.0    0.1    0.1    0.2   \n",
       "20629        0.4 -1.2       -1.1       0.9 -0.7    0.0    0.1    0.1    0.2   \n",
       "321          1.3  0.8       -1.1       0.9 -0.9    0.0    0.1    0.1    0.2   \n",
       "9579        -0.9 -1.2        1.5      -1.1  1.6    0.0    0.1    0.1    1.9   \n",
       "27004       -0.8 -1.2       -1.1       0.9 -0.5    0.0    0.1    0.1    0.2   \n",
       "2360        -1.1  0.8        0.2      -1.1  0.6   -0.9    1.8   -0.7   -0.7   \n",
       "6593        -0.9 -1.2        0.2       0.9  2.2    0.0    0.1    0.1    0.2   \n",
       "\n",
       "       PAY_5  ...  BILL_AMT3  BILL_AMT4  BILL_AMT5  BILL_AMT6  PAY_AMT1  \\\n",
       "7945     0.2  ...       -0.4       -0.4       -0.3       -0.3      -0.1   \n",
       "16536    0.2  ...        1.2        1.3        1.4        1.4       0.0   \n",
       "26726   -0.6  ...       -0.7       -0.6       -0.7       -0.6      -0.3   \n",
       "16333    0.2  ...       -0.0       -0.0       -0.2       -0.2      -0.2   \n",
       "20629    0.2  ...       -0.3       -0.3       -0.3       -0.3      -0.2   \n",
       "321      0.2  ...        1.7        1.7        1.7        1.1       0.9   \n",
       "9579     0.2  ...        0.3       -0.4       -0.4       -0.4      -0.2   \n",
       "27004   -1.5  ...        0.1       -0.7       -0.7       -0.6      -0.2   \n",
       "2360     0.2  ...       -0.7       -0.5       -0.6       -0.6      -0.3   \n",
       "6593     0.2  ...        0.0        0.0       -0.3       -0.3      -0.2   \n",
       "\n",
       "       PAY_AMT2  PAY_AMT3  PAY_AMT4  PAY_AMT5  PAY_AMT6  \n",
       "7945       -0.2      -0.2      -0.3      -0.2      -0.3  \n",
       "16536      -0.0       0.0      -0.0       0.0      -0.0  \n",
       "26726      -0.2      -0.2      -0.3      -0.3      -0.3  \n",
       "16333      -0.1      -0.2      -0.2      -0.2      -0.2  \n",
       "20629      -0.2      -0.2      -0.3      -0.2      -0.2  \n",
       "321        -0.0      -0.0       0.1      -0.1       2.5  \n",
       "9579       -0.1      -0.3      -0.2      -0.2      -0.2  \n",
       "27004      -0.1      -0.3      -0.3      -0.3      -0.3  \n",
       "2360       -0.2       0.2      -0.3      -0.3      -0.2  \n",
       "6593       -0.2      -0.2      -0.3      -0.3      -0.3  \n",
       "\n",
       "[10 rows x 23 columns]"
      ]
     },
     "execution_count": 7,
     "metadata": {},
     "output_type": "execute_result"
    }
   ],
   "source": [
    "\n",
    "# Choose the first 20000 examples for training.\n",
    "training_examples = selected_features.head(20000)\n",
    "training_targets = output_targets.head(20000)\n",
    "\n",
    "# Normalize the training data\n",
    "scaler = StandardScaler().fit(training_examples.values)\n",
    "scaledf = scaler.transform(training_examples.values)\n",
    "training_examples = pd.DataFrame(scaledf, index=training_examples.index, columns=training_examples.columns)\n",
    "\n",
    "\n",
    "# Choose 10000 examples for validation.\n",
    "validation_examples = selected_features.tail(10000)\n",
    "validation_targets = output_targets.tail(10000)\n",
    "\n",
    "# Normalize the validation data\n",
    "scaler = StandardScaler().fit(validation_examples.values)\n",
    "scaledf = scaler.transform(validation_examples.values)\n",
    "validation_examples = pd.DataFrame(scaledf, index=validation_examples.index, columns=validation_examples.columns)\n",
    "\n",
    "training_examples.head(10)"
   ]
  },
  {
   "cell_type": "code",
   "execution_count": 8,
   "metadata": {},
   "outputs": [
    {
     "name": "stdout",
     "output_type": "stream",
     "text": [
      "check the distribution of training target variable:\n",
      "0   77.7\n",
      "1   22.3\n",
      "Name: default payment next month, dtype: float64\n",
      "check the distribution of validation target variable:\n",
      "0   78.2\n",
      "1   21.8\n",
      "Name: default payment next month, dtype: float64\n"
     ]
    }
   ],
   "source": [
    "\n",
    "# Check the baseline:\n",
    "print(\"check the distribution of training target variable:\")\n",
    "frequency = training_targets['default payment next month'].value_counts(normalize =True)\n",
    "print(frequency * 100)\n",
    "\n",
    "print(\"check the distribution of validation target variable:\")\n",
    "frequency = validation_targets['default payment next month'].value_counts(normalize =True)\n",
    "print(frequency * 100)\n",
    "\n",
    "# Based on the majority classification, baseline is 77.9\n"
   ]
  },
  {
   "cell_type": "markdown",
   "metadata": {},
   "source": [
    "### Build model with 1 hidden layer"
   ]
  },
  {
   "cell_type": "code",
   "execution_count": 9,
   "metadata": {},
   "outputs": [
    {
     "name": "stdout",
     "output_type": "stream",
     "text": [
      "Model: \"sequential\"\n",
      "_________________________________________________________________\n",
      "Layer (type)                 Output Shape              Param #   \n",
      "=================================================================\n",
      "dense (Dense)                (None, 23)                552       \n",
      "_________________________________________________________________\n",
      "dense_1 (Dense)              (None, 20)                480       \n",
      "_________________________________________________________________\n",
      "dense_2 (Dense)              (None, 1)                 21        \n",
      "=================================================================\n",
      "Total params: 1,053\n",
      "Trainable params: 1,053\n",
      "Non-trainable params: 0\n",
      "_________________________________________________________________\n"
     ]
    }
   ],
   "source": [
    "\n",
    "baseline_model = keras.Sequential([\n",
    "    keras.layers.Dense(23, activation=tf.nn.relu,\n",
    "                       input_shape=(training_examples.shape[1],)),\n",
    "    keras.layers.Dense(20, activation=tf.nn.relu),\n",
    "    keras.layers.Dense(1, activation=tf.nn.sigmoid)\n",
    "\n",
    "  ])\n",
    "\n",
    "\n",
    "baseline_model.compile(loss='binary_crossentropy',\n",
    "                optimizer=\"adam\",\n",
    "                metrics=['accuracy'])\n",
    "baseline_model.summary()"
   ]
  },
  {
   "cell_type": "markdown",
   "metadata": {},
   "source": [
    "### Fit Model"
   ]
  },
  {
   "cell_type": "code",
   "execution_count": 142,
   "metadata": {},
   "outputs": [
    {
     "name": "stdout",
     "output_type": "stream",
     "text": [
      "WARNING:tensorflow:Falling back from v2 loop because of error: Failed to find data adapter that can handle input: <class 'pandas.core.frame.DataFrame'>, <class 'NoneType'>\n",
      "Train on 20000 samples, validate on 10000 samples\n",
      "Epoch 1/50\n",
      "20000/20000 [==============================] - 2s 92us/sample - loss: 0.4822 - accuracy: 0.7992 - val_loss: 0.4622 - val_accuracy: 0.8088\n",
      "Epoch 2/50\n",
      "20000/20000 [==============================] - 1s 57us/sample - loss: 0.4477 - accuracy: 0.8173 - val_loss: 0.4516 - val_accuracy: 0.8142\n",
      "Epoch 3/50\n",
      "20000/20000 [==============================] - 1s 58us/sample - loss: 0.4394 - accuracy: 0.8195 - val_loss: 0.4497 - val_accuracy: 0.8144\n",
      "Epoch 4/50\n",
      "20000/20000 [==============================] - 1s 57us/sample - loss: 0.4345 - accuracy: 0.8196 - val_loss: 0.4470 - val_accuracy: 0.8130\n",
      "Epoch 5/50\n",
      "20000/20000 [==============================] - 1s 57us/sample - loss: 0.4308 - accuracy: 0.8204 - val_loss: 0.4507 - val_accuracy: 0.8148\n",
      "Epoch 6/50\n",
      "20000/20000 [==============================] - 1s 58us/sample - loss: 0.4285 - accuracy: 0.8220 - val_loss: 0.4452 - val_accuracy: 0.8160\n",
      "Epoch 7/50\n",
      "20000/20000 [==============================] - 1s 58us/sample - loss: 0.4264 - accuracy: 0.8237 - val_loss: 0.4456 - val_accuracy: 0.8131\n",
      "Epoch 8/50\n",
      "20000/20000 [==============================] - 1s 57us/sample - loss: 0.4244 - accuracy: 0.8236 - val_loss: 0.4423 - val_accuracy: 0.8159\n",
      "Epoch 9/50\n",
      "20000/20000 [==============================] - 1s 58us/sample - loss: 0.4229 - accuracy: 0.8232 - val_loss: 0.4460 - val_accuracy: 0.8153\n",
      "Epoch 10/50\n",
      "20000/20000 [==============================] - 1s 67us/sample - loss: 0.4216 - accuracy: 0.8245 - val_loss: 0.4455 - val_accuracy: 0.8129\n",
      "Epoch 11/50\n",
      "20000/20000 [==============================] - 1s 62us/sample - loss: 0.4210 - accuracy: 0.8237 - val_loss: 0.4433 - val_accuracy: 0.8145\n"
     ]
    }
   ],
   "source": [
    "EPOCHS = 50\n",
    "from keras.callbacks import EarlyStopping\n",
    "early_stopping_monitor = EarlyStopping(monitor = 'val_loss',patience=3)\n",
    "b_history = baseline_model.fit(training_examples, training_targets, epochs=EPOCHS,\n",
    "                    validation_data= (validation_examples, validation_targets), verbose=1,\n",
    "                    callbacks=[early_stopping_monitor])"
   ]
  },
  {
   "cell_type": "markdown",
   "metadata": {},
   "source": [
    "#### Check the minimum and maximum accuracy "
   ]
  },
  {
   "cell_type": "code",
   "execution_count": 143,
   "metadata": {},
   "outputs": [
    {
     "name": "stdout",
     "output_type": "stream",
     "text": [
      "Minimum accuracy of validation is:  0.8088\n",
      "Maximum accuracy of validation is:  0.816\n"
     ]
    }
   ],
   "source": [
    "print(\"Minimum accuracy of validation is: \", min(b_history.history['val_accuracy']))\n",
    "print(\"Maximum accuracy of validation is: \", max(b_history.history['val_accuracy']))"
   ]
  },
  {
   "cell_type": "code",
   "execution_count": 71,
   "metadata": {},
   "outputs": [
    {
     "name": "stdout",
     "output_type": "stream",
     "text": [
      "Minimum accuracy of model is:  0.80065\n",
      "Maximum accuracy of model is:  0.82645\n"
     ]
    }
   ],
   "source": [
    "print(\"Minimum accuracy of model is: \", min(b_history.history['accuracy']))\n",
    "print(\"Maximum accuracy of model is: \", max(b_history.history['accuracy']))"
   ]
  },
  {
   "cell_type": "markdown",
   "metadata": {},
   "source": [
    "#### Precision, Recall and f1-score"
   ]
  },
  {
   "cell_type": "code",
   "execution_count": 72,
   "metadata": {},
   "outputs": [
    {
     "name": "stdout",
     "output_type": "stream",
     "text": [
      "WARNING:tensorflow:Falling back from v2 loop because of error: Failed to find data adapter that can handle input: <class 'pandas.core.frame.DataFrame'>, <class 'NoneType'>\n",
      "              precision    recall  f1-score   support\n",
      "\n",
      "           0       0.85      0.92      0.88      7820\n",
      "           1       0.60      0.41      0.48      2180\n",
      "\n",
      "    accuracy                           0.81     10000\n",
      "   macro avg       0.72      0.66      0.68     10000\n",
      "weighted avg       0.79      0.81      0.80     10000\n",
      "\n"
     ]
    }
   ],
   "source": [
    "from sklearn.metrics import classification_report\n",
    "predictions = baseline_model.predict_classes(validation_examples)\n",
    "print(classification_report(validation_targets,predictions))"
   ]
  },
  {
   "cell_type": "markdown",
   "metadata": {},
   "source": [
    "### Predictions"
   ]
  },
  {
   "cell_type": "code",
   "execution_count": 73,
   "metadata": {},
   "outputs": [
    {
     "name": "stdout",
     "output_type": "stream",
     "text": [
      "tf.Tensor(\n",
      "[[0.24630249]\n",
      " [0.0858002 ]\n",
      " [0.09681055]\n",
      " [0.1895194 ]\n",
      " [0.28609657]\n",
      " [0.14166522]\n",
      " [0.57412684]\n",
      " [0.0760223 ]\n",
      " [0.21777438]], shape=(9, 1), dtype=float32)\n"
     ]
    }
   ],
   "source": [
    "valpreds = baseline_model.predict_on_batch(validation_examples.iloc[1:10])\n",
    "print(valpreds)"
   ]
  },
  {
   "cell_type": "code",
   "execution_count": 74,
   "metadata": {},
   "outputs": [
    {
     "name": "stdout",
     "output_type": "stream",
     "text": [
      "       default payment next month\n",
      "3751                            0\n",
      "16669                           0\n",
      "8268                            1\n",
      "24820                           0\n",
      "4358                            1\n",
      "25164                           0\n",
      "7968                            1\n",
      "16265                           0\n",
      "16749                           0\n"
     ]
    }
   ],
   "source": [
    "with pd.option_context('display.max_rows', None, 'display.max_columns', None):\n",
    "    print(validation_targets.iloc[1:10])"
   ]
  },
  {
   "cell_type": "markdown",
   "metadata": {},
   "source": [
    "### Plot results"
   ]
  },
  {
   "cell_type": "code",
   "execution_count": 75,
   "metadata": {},
   "outputs": [
    {
     "data": {
      "image/png": "[encoded data removed]",
      "text/plain": [
       "<Figure size 1152x720 with 1 Axes>"
      ]
     },
     "metadata": {
      "needs_background": "light"
     },
     "output_type": "display_data"
    }
   ],
   "source": [
    "import matplotlib.pyplot as plt\n",
    "\n",
    "\n",
    "def plot_history(histories, key='accuracy'):\n",
    "  plt.figure(figsize=(16,10))\n",
    "  for name, history in histories:\n",
    "    val = plt.plot(history.epoch, history.history['val_'+key],\n",
    "                   '--', label=name.title()+' Val')\n",
    "    plt.plot(history.epoch, history.history[key], color=val[0].get_color(),\n",
    "             label=name.title()+' Train')\n",
    "\n",
    "  plt.xlabel('Epochs')\n",
    "  plt.ylabel(key.replace('_',' ').title())\n",
    "  plt.legend()\n",
    "\n",
    "  plt.xlim([0,max(history.epoch)])\n",
    "  #plt.ylim([.7,.9])\n",
    "\n",
    "plot_history([('baseline', b_history)])\n"
   ]
  },
  {
   "cell_type": "markdown",
   "metadata": {},
   "source": [
    "### Build model with 2 hidden layer"
   ]
  },
  {
   "cell_type": "code",
   "execution_count": 76,
   "metadata": {},
   "outputs": [
    {
     "name": "stdout",
     "output_type": "stream",
     "text": [
      "Model: \"sequential_15\"\n",
      "_________________________________________________________________\n",
      "Layer (type)                 Output Shape              Param #   \n",
      "=================================================================\n",
      "dense_51 (Dense)             (None, 24)                600       \n",
      "_________________________________________________________________\n",
      "dense_52 (Dense)             (None, 15)                375       \n",
      "_________________________________________________________________\n",
      "dense_53 (Dense)             (None, 15)                240       \n",
      "_________________________________________________________________\n",
      "dense_54 (Dense)             (None, 1)                 16        \n",
      "=================================================================\n",
      "Total params: 1,231\n",
      "Trainable params: 1,231\n",
      "Non-trainable params: 0\n",
      "_________________________________________________________________\n"
     ]
    }
   ],
   "source": [
    "\n",
    "baseline_model2 = keras.Sequential([\n",
    "    keras.layers.Dense(24, activation=tf.nn.relu,\n",
    "                       input_shape=(training_examples.shape[1],)),\n",
    "    keras.layers.Dense(15, activation=tf.nn.relu),\n",
    "    keras.layers.Dense(15, activation=tf.nn.relu),\n",
    "    keras.layers.Dense(1, activation=tf.nn.sigmoid)\n",
    "\n",
    "  ])\n",
    "\n",
    "\n",
    "baseline_model2.compile(loss='binary_crossentropy',\n",
    "                optimizer=\"rmsprop\",\n",
    "                metrics=['accuracy'])\n",
    "baseline_model2.summary()"
   ]
  },
  {
   "cell_type": "code",
   "execution_count": 77,
   "metadata": {},
   "outputs": [
    {
     "name": "stdout",
     "output_type": "stream",
     "text": [
      "WARNING:tensorflow:Falling back from v2 loop because of error: Failed to find data adapter that can handle input: <class 'pandas.core.frame.DataFrame'>, <class 'NoneType'>\n",
      "Train on 20000 samples, validate on 10000 samples\n",
      "Epoch 1/50\n",
      "20000/20000 [==============================] - 2s 104us/sample - loss: 0.4813 - accuracy: 0.8045 - val_loss: 0.4625 - val_accuracy: 0.8091\n",
      "Epoch 2/50\n",
      "20000/20000 [==============================] - 1s 63us/sample - loss: 0.4460 - accuracy: 0.8201 - val_loss: 0.4520 - val_accuracy: 0.8120\n",
      "Epoch 3/50\n",
      "20000/20000 [==============================] - 1s 63us/sample - loss: 0.4388 - accuracy: 0.8217 - val_loss: 0.4516 - val_accuracy: 0.8142\n",
      "Epoch 4/50\n",
      "20000/20000 [==============================] - 1s 63us/sample - loss: 0.4349 - accuracy: 0.8228 - val_loss: 0.4506 - val_accuracy: 0.8149\n",
      "Epoch 5/50\n",
      "20000/20000 [==============================] - 1s 64us/sample - loss: 0.4329 - accuracy: 0.8228 - val_loss: 0.4484 - val_accuracy: 0.8158\n",
      "Epoch 6/50\n",
      "20000/20000 [==============================] - 1s 68us/sample - loss: 0.4298 - accuracy: 0.8241 - val_loss: 0.4506 - val_accuracy: 0.8115\n",
      "Epoch 7/50\n",
      "20000/20000 [==============================] - 1s 62us/sample - loss: 0.4286 - accuracy: 0.8242 - val_loss: 0.4463 - val_accuracy: 0.8158\n",
      "Epoch 8/50\n",
      "20000/20000 [==============================] - 1s 66us/sample - loss: 0.4261 - accuracy: 0.8230 - val_loss: 0.4487 - val_accuracy: 0.8162\n",
      "Epoch 9/50\n",
      "20000/20000 [==============================] - 1s 72us/sample - loss: 0.4259 - accuracy: 0.8234 - val_loss: 0.4473 - val_accuracy: 0.8146\n",
      "Epoch 10/50\n",
      "20000/20000 [==============================] - 1s 64us/sample - loss: 0.4240 - accuracy: 0.8247 - val_loss: 0.4487 - val_accuracy: 0.8142\n"
     ]
    }
   ],
   "source": [
    "from keras.callbacks import EarlyStopping\n",
    "early_stopping_monitor = EarlyStopping(monitor = 'val_loss',patience=3)\n",
    "b_history2 = baseline_model2.fit(training_examples, training_targets, epochs=EPOCHS,\n",
    "                    validation_data= (validation_examples, validation_targets), verbose=1,\n",
    "                    callbacks=[early_stopping_monitor])"
   ]
  },
  {
   "cell_type": "code",
   "execution_count": 78,
   "metadata": {},
   "outputs": [
    {
     "name": "stdout",
     "output_type": "stream",
     "text": [
      "Minimum accuracy of validation is:  0.8091\n",
      "Maximum accuracy of validation is:  0.8162\n"
     ]
    }
   ],
   "source": [
    "print(\"Minimum accuracy of validation is: \", min(b_history2.history['val_accuracy']))\n",
    "print(\"Maximum accuracy of validation is: \", max(b_history2.history['val_accuracy']))"
   ]
  },
  {
   "cell_type": "code",
   "execution_count": 80,
   "metadata": {},
   "outputs": [
    {
     "name": "stdout",
     "output_type": "stream",
     "text": [
      "Minimum accuracy of model is:  0.8045\n",
      "Maximum accuracy of model is:  0.8247\n"
     ]
    }
   ],
   "source": [
    "print(\"Minimum accuracy of model is: \", min(b_history2.history['accuracy']))\n",
    "print(\"Maximum accuracy of model is: \", max(b_history2.history['accuracy']))"
   ]
  },
  {
   "cell_type": "code",
   "execution_count": 81,
   "metadata": {},
   "outputs": [
    {
     "name": "stdout",
     "output_type": "stream",
     "text": [
      "WARNING:tensorflow:Falling back from v2 loop because of error: Failed to find data adapter that can handle input: <class 'pandas.core.frame.DataFrame'>, <class 'NoneType'>\n",
      "              precision    recall  f1-score   support\n",
      "\n",
      "           0       0.84      0.94      0.89      7820\n",
      "           1       0.63      0.36      0.46      2180\n",
      "\n",
      "    accuracy                           0.81     10000\n",
      "   macro avg       0.73      0.65      0.67     10000\n",
      "weighted avg       0.79      0.81      0.79     10000\n",
      "\n"
     ]
    }
   ],
   "source": [
    "from sklearn.metrics import classification_report\n",
    "predictions = baseline_model2.predict_classes(validation_examples)\n",
    "print(classification_report(validation_targets,predictions))"
   ]
  },
  {
   "cell_type": "markdown",
   "metadata": {},
   "source": [
    "### Plot results of model with 1 hidden layer vs 2 hidden layers."
   ]
  },
  {
   "cell_type": "code",
   "execution_count": 85,
   "metadata": {},
   "outputs": [
    {
     "data": {
      "image/png": "[encoded data removed]",
      "text/plain": [
       "<Figure size 1152x720 with 1 Axes>"
      ]
     },
     "metadata": {
      "needs_background": "light"
     },
     "output_type": "display_data"
    }
   ],
   "source": [
    "plot_history([('1 Hidden Layer', b_history), \n",
    "            ('2 Hidden Layer', b_history2) ])"
   ]
  },
  {
   "cell_type": "markdown",
   "metadata": {},
   "source": [
    "###  2. b. (a) No of neurons in hidden layers is 2/3 the size of the input layer, plus the size of the output layer."
   ]
  },
  {
   "cell_type": "code",
   "execution_count": 86,
   "metadata": {},
   "outputs": [
    {
     "name": "stdout",
     "output_type": "stream",
     "text": [
      "Model: \"sequential_16\"\n",
      "_________________________________________________________________\n",
      "Layer (type)                 Output Shape              Param #   \n",
      "=================================================================\n",
      "dense_55 (Dense)             (None, 24)                600       \n",
      "_________________________________________________________________\n",
      "dense_56 (Dense)             (None, 17)                425       \n",
      "_________________________________________________________________\n",
      "dense_57 (Dense)             (None, 1)                 18        \n",
      "=================================================================\n",
      "Total params: 1,043\n",
      "Trainable params: 1,043\n",
      "Non-trainable params: 0\n",
      "_________________________________________________________________\n"
     ]
    }
   ],
   "source": [
    "\n",
    "baseline_model3 = keras.Sequential([\n",
    "    keras.layers.Dense(24, activation=tf.nn.relu,\n",
    "                       input_shape=(training_examples.shape[1],)),\n",
    "    keras.layers.Dense(17, activation=tf.nn.relu),\n",
    "    keras.layers.Dense(1, activation=tf.nn.sigmoid)\n",
    "\n",
    "  ])\n",
    "\n",
    "\n",
    "baseline_model3.compile(loss='binary_crossentropy',\n",
    "                optimizer=\"rmsprop\",\n",
    "                metrics=['accuracy'])\n",
    "baseline_model3.summary()"
   ]
  },
  {
   "cell_type": "code",
   "execution_count": 87,
   "metadata": {},
   "outputs": [
    {
     "name": "stdout",
     "output_type": "stream",
     "text": [
      "WARNING:tensorflow:Falling back from v2 loop because of error: Failed to find data adapter that can handle input: <class 'pandas.core.frame.DataFrame'>, <class 'NoneType'>\n",
      "Train on 20000 samples, validate on 10000 samples\n",
      "Epoch 1/50\n",
      "20000/20000 [==============================] - 2s 102us/sample - loss: 0.4822 - accuracy: 0.8061 - val_loss: 0.4681 - val_accuracy: 0.8106\n",
      "Epoch 2/50\n",
      "20000/20000 [==============================] - 1s 58us/sample - loss: 0.4503 - accuracy: 0.8185 - val_loss: 0.4561 - val_accuracy: 0.8142\n",
      "Epoch 3/50\n",
      "20000/20000 [==============================] - 1s 59us/sample - loss: 0.4410 - accuracy: 0.8226 - val_loss: 0.4512 - val_accuracy: 0.8129\n",
      "Epoch 4/50\n",
      "20000/20000 [==============================] - 1s 59us/sample - loss: 0.4365 - accuracy: 0.8237 - val_loss: 0.4493 - val_accuracy: 0.8145\n",
      "Epoch 5/50\n",
      "20000/20000 [==============================] - 1s 58us/sample - loss: 0.4335 - accuracy: 0.8231 - val_loss: 0.4498 - val_accuracy: 0.8130\n",
      "Epoch 6/50\n",
      "20000/20000 [==============================] - 1s 59us/sample - loss: 0.4327 - accuracy: 0.8235 - val_loss: 0.4461 - val_accuracy: 0.8142\n",
      "Epoch 7/50\n",
      "20000/20000 [==============================] - 1s 66us/sample - loss: 0.4309 - accuracy: 0.8234 - val_loss: 0.4468 - val_accuracy: 0.8131\n",
      "Epoch 8/50\n",
      "20000/20000 [==============================] - 1s 65us/sample - loss: 0.4295 - accuracy: 0.8244 - val_loss: 0.4454 - val_accuracy: 0.8126\n",
      "Epoch 9/50\n",
      "20000/20000 [==============================] - 1s 59us/sample - loss: 0.4283 - accuracy: 0.8245 - val_loss: 0.4451 - val_accuracy: 0.8145\n",
      "Epoch 10/50\n",
      "20000/20000 [==============================] - 1s 60us/sample - loss: 0.4274 - accuracy: 0.8247 - val_loss: 0.4473 - val_accuracy: 0.8134\n",
      "Epoch 11/50\n",
      "20000/20000 [==============================] - 1s 61us/sample - loss: 0.4272 - accuracy: 0.8249 - val_loss: 0.4466 - val_accuracy: 0.8121\n",
      "Epoch 12/50\n",
      "20000/20000 [==============================] - 1s 67us/sample - loss: 0.4258 - accuracy: 0.8253 - val_loss: 0.4469 - val_accuracy: 0.8138\n"
     ]
    }
   ],
   "source": [
    "from keras.callbacks import EarlyStopping\n",
    "early_stopping_monitor = EarlyStopping(monitor = 'val_loss',patience=3)\n",
    "b_history3 = baseline_model3.fit(training_examples, training_targets, epochs=EPOCHS,\n",
    "                    validation_data= (validation_examples, validation_targets), verbose=1,\n",
    "                    callbacks=[early_stopping_monitor])"
   ]
  },
  {
   "cell_type": "code",
   "execution_count": 88,
   "metadata": {},
   "outputs": [
    {
     "name": "stdout",
     "output_type": "stream",
     "text": [
      "Minimum accuracy of validation is:  0.8106\n",
      "Maximum accuracy of validation is:  0.8145\n"
     ]
    }
   ],
   "source": [
    "print(\"Minimum accuracy of validation is: \", min(b_history3.history['val_accuracy']))\n",
    "print(\"Maximum accuracy of validation is: \", max(b_history3.history['val_accuracy']))"
   ]
  },
  {
   "cell_type": "markdown",
   "metadata": {},
   "source": [
    "### 2. b (b) No of neurons in hidden layers is twice the size of the input layer."
   ]
  },
  {
   "cell_type": "code",
   "execution_count": 94,
   "metadata": {},
   "outputs": [
    {
     "name": "stdout",
     "output_type": "stream",
     "text": [
      "Model: \"sequential_18\"\n",
      "_________________________________________________________________\n",
      "Layer (type)                 Output Shape              Param #   \n",
      "=================================================================\n",
      "dense_61 (Dense)             (None, 24)                600       \n",
      "_________________________________________________________________\n",
      "dense_62 (Dense)             (None, 48)                1200      \n",
      "_________________________________________________________________\n",
      "dense_63 (Dense)             (None, 1)                 49        \n",
      "=================================================================\n",
      "Total params: 1,849\n",
      "Trainable params: 1,849\n",
      "Non-trainable params: 0\n",
      "_________________________________________________________________\n"
     ]
    }
   ],
   "source": [
    "\n",
    "baseline_model4 = keras.Sequential([\n",
    "    keras.layers.Dense(24, activation=tf.nn.relu,\n",
    "                       input_shape=(training_examples.shape[1],)),\n",
    "    keras.layers.Dense(48, activation=tf.nn.relu),\n",
    "    keras.layers.Dense(1, activation=tf.nn.sigmoid)\n",
    "\n",
    "  ])\n",
    "\n",
    "\n",
    "baseline_model4.compile(loss='binary_crossentropy',\n",
    "                optimizer=\"rmsprop\",\n",
    "                metrics=['accuracy'])\n",
    "baseline_model4.summary()"
   ]
  },
  {
   "cell_type": "code",
   "execution_count": 95,
   "metadata": {},
   "outputs": [
    {
     "name": "stdout",
     "output_type": "stream",
     "text": [
      "WARNING:tensorflow:Falling back from v2 loop because of error: Failed to find data adapter that can handle input: <class 'pandas.core.frame.DataFrame'>, <class 'NoneType'>\n",
      "Train on 20000 samples, validate on 10000 samples\n",
      "Epoch 1/50\n",
      "20000/20000 [==============================] - 2s 97us/sample - loss: 0.4869 - accuracy: 0.7972 - val_loss: 0.4626 - val_accuracy: 0.8106\n",
      "Epoch 2/50\n",
      "20000/20000 [==============================] - 1s 64us/sample - loss: 0.4478 - accuracy: 0.8200 - val_loss: 0.4543 - val_accuracy: 0.8143\n",
      "Epoch 3/50\n",
      "20000/20000 [==============================] - 1s 61us/sample - loss: 0.4388 - accuracy: 0.8227 - val_loss: 0.4472 - val_accuracy: 0.8137\n",
      "Epoch 4/50\n",
      "20000/20000 [==============================] - 1s 60us/sample - loss: 0.4339 - accuracy: 0.8239 - val_loss: 0.4452 - val_accuracy: 0.8150\n",
      "Epoch 5/50\n",
      "20000/20000 [==============================] - 1s 67us/sample - loss: 0.4306 - accuracy: 0.8243 - val_loss: 0.4461 - val_accuracy: 0.8137\n",
      "Epoch 6/50\n",
      "20000/20000 [==============================] - 1s 66us/sample - loss: 0.4288 - accuracy: 0.8252 - val_loss: 0.4487 - val_accuracy: 0.8140\n",
      "Epoch 7/50\n",
      "20000/20000 [==============================] - 1s 67us/sample - loss: 0.4269 - accuracy: 0.8238 - val_loss: 0.4448 - val_accuracy: 0.8147\n",
      "Epoch 8/50\n",
      "20000/20000 [==============================] - 1s 64us/sample - loss: 0.4256 - accuracy: 0.8245 - val_loss: 0.4419 - val_accuracy: 0.8156\n",
      "Epoch 9/50\n",
      "20000/20000 [==============================] - 1s 66us/sample - loss: 0.4244 - accuracy: 0.8252 - val_loss: 0.4471 - val_accuracy: 0.8115\n",
      "Epoch 10/50\n",
      "20000/20000 [==============================] - 1s 64us/sample - loss: 0.4235 - accuracy: 0.8255 - val_loss: 0.4449 - val_accuracy: 0.8135\n",
      "Epoch 11/50\n",
      "20000/20000 [==============================] - 1s 61us/sample - loss: 0.4231 - accuracy: 0.8250 - val_loss: 0.4438 - val_accuracy: 0.8127\n"
     ]
    }
   ],
   "source": [
    "from keras.callbacks import EarlyStopping\n",
    "early_stopping_monitor = EarlyStopping(monitor = 'val_loss',patience=3)\n",
    "b_history4 = baseline_model4.fit(training_examples, training_targets, epochs=EPOCHS,\n",
    "                    validation_data= (validation_examples, validation_targets), verbose=1,\n",
    "                    callbacks=[early_stopping_monitor])"
   ]
  },
  {
   "cell_type": "code",
   "execution_count": 96,
   "metadata": {},
   "outputs": [
    {
     "name": "stdout",
     "output_type": "stream",
     "text": [
      "Minimum accuracy of validation is:  0.8106\n",
      "Maximum accuracy of validation is:  0.8156\n"
     ]
    }
   ],
   "source": [
    "print(\"Minimum accuracy of validation is: \", min(b_history4.history['val_accuracy']))\n",
    "print(\"Maximum accuracy of validation is: \", max(b_history4.history['val_accuracy']))"
   ]
  },
  {
   "cell_type": "markdown",
   "metadata": {},
   "source": [
    "### Plot results of model with No of neurons in hidden layers is 2/3 the size of the input layer vs twice the input layer."
   ]
  },
  {
   "cell_type": "code",
   "execution_count": 98,
   "metadata": {},
   "outputs": [
    {
     "data": {
      "image/png": "[encoded data removed]",
      "text/plain": [
       "<Figure size 1152x720 with 1 Axes>"
      ]
     },
     "metadata": {
      "needs_background": "light"
     },
     "output_type": "display_data"
    }
   ],
   "source": [
    "plot_history([('17 Neurons in hidden layer', b_history3), #  model with hidden layer neurons 2/3 of input layer \n",
    "            ('48 Neurons in hidden layer', b_history4)]) # model with hidden layer neurons twice the input layer"
   ]
  },
  {
   "cell_type": "markdown",
   "metadata": {},
   "source": [
    "### Regularization"
   ]
  },
  {
   "cell_type": "code",
   "execution_count": 108,
   "metadata": {},
   "outputs": [],
   "source": [
    "l1_model = keras.Sequential([\n",
    "    keras.layers.Dense(24, kernel_regularizer=keras.regularizers.l1(0.1), activation=tf.nn.relu,\n",
    "                       input_shape=(training_examples.shape[1],)),\n",
    "    keras.layers.Dense(32, use_bias=True, kernel_regularizer=keras.regularizers.l1(0.01), activation=tf.nn.relu),\n",
    "    keras.layers.Dropout(0.25),\n",
    "    keras.layers.Dense(32, use_bias=True, kernel_regularizer=keras.regularizers.l1(0.01), activation=tf.nn.relu),\n",
    "    keras.layers.Dropout(0.25),\n",
    "    keras.layers.Dense(1, activation=tf.nn.sigmoid)\n",
    "  ])\n",
    "\n",
    "l1_model.compile(loss='binary_crossentropy',\n",
    "                optimizer=\"rmsprop\",\n",
    "                metrics=['accuracy'])\n"
   ]
  },
  {
   "cell_type": "code",
   "execution_count": 109,
   "metadata": {},
   "outputs": [
    {
     "name": "stdout",
     "output_type": "stream",
     "text": [
      "WARNING:tensorflow:Falling back from v2 loop because of error: Failed to find data adapter that can handle input: <class 'pandas.core.frame.DataFrame'>, <class 'NoneType'>\n",
      "Train on 20000 samples, validate on 10000 samples\n",
      "Epoch 1/50\n",
      "20000/20000 [==============================] - 3s 141us/sample - loss: 2.9512 - accuracy: 0.7706 - val_loss: 0.5629 - val_accuracy: 0.7820\n",
      "Epoch 2/50\n",
      "20000/20000 [==============================] - 2s 89us/sample - loss: 0.5703 - accuracy: 0.7772 - val_loss: 0.5616 - val_accuracy: 0.7820\n",
      "Epoch 3/50\n",
      "20000/20000 [==============================] - 2s 95us/sample - loss: 0.5701 - accuracy: 0.7772 - val_loss: 0.5632 - val_accuracy: 0.7820\n",
      "Epoch 4/50\n",
      "20000/20000 [==============================] - 2s 86us/sample - loss: 0.5692 - accuracy: 0.7772 - val_loss: 0.5618 - val_accuracy: 0.7820\n",
      "Epoch 5/50\n",
      "20000/20000 [==============================] - 2s 88us/sample - loss: 0.5699 - accuracy: 0.7772 - val_loss: 0.5627 - val_accuracy: 0.7820\n"
     ]
    }
   ],
   "source": [
    "l1_history = l1_model.fit(training_examples, training_targets, epochs=EPOCHS,\n",
    "                    validation_data= (validation_examples, validation_targets), verbose=1,\n",
    "                    callbacks=[early_stopping_monitor])"
   ]
  },
  {
   "cell_type": "markdown",
   "metadata": {},
   "source": [
    "### Plot regularization results"
   ]
  },
  {
   "cell_type": "code",
   "execution_count": 110,
   "metadata": {},
   "outputs": [
    {
     "data": {
      "image/png": "[encoded data removed]",
      "text/plain": [
       "<Figure size 1152x720 with 1 Axes>"
      ]
     },
     "metadata": {
      "needs_background": "light"
     },
     "output_type": "display_data"
    }
   ],
   "source": [
    "plot_history([('baseline', b_history),  # no regularization model\n",
    "              ('L1', l1_history)])"
   ]
  },
  {
   "cell_type": "markdown",
   "metadata": {},
   "source": [
    "### d.\tActivation function - ReLU and your choice"
   ]
  },
  {
   "cell_type": "code",
   "execution_count": 145,
   "metadata": {},
   "outputs": [
    {
     "name": "stdout",
     "output_type": "stream",
     "text": [
      "Model: \"sequential_31\"\n",
      "_________________________________________________________________\n",
      "Layer (type)                 Output Shape              Param #   \n",
      "=================================================================\n",
      "dense_108 (Dense)            (None, 24)                600       \n",
      "_________________________________________________________________\n",
      "dense_109 (Dense)            (None, 20)                500       \n",
      "_________________________________________________________________\n",
      "dense_110 (Dense)            (None, 1)                 21        \n",
      "=================================================================\n",
      "Total params: 1,121\n",
      "Trainable params: 1,121\n",
      "Non-trainable params: 0\n",
      "_________________________________________________________________\n"
     ]
    }
   ],
   "source": [
    "baseline_model5 = keras.Sequential([\n",
    "    keras.layers.Dense(24, activation=tf.nn.tanh,\n",
    "                       input_shape=(training_examples.shape[1],)),\n",
    "    keras.layers.Dense(20, activation=tf.nn.tanh),\n",
    "    keras.layers.Dense(1, activation=tf.nn.sigmoid)\n",
    "\n",
    "  ])\n",
    "\n",
    "\n",
    "baseline_model5.compile(loss='binary_crossentropy',\n",
    "                optimizer=\"adam\",\n",
    "                metrics=['accuracy'])\n",
    "baseline_model5.summary()"
   ]
  },
  {
   "cell_type": "code",
   "execution_count": 146,
   "metadata": {},
   "outputs": [
    {
     "name": "stdout",
     "output_type": "stream",
     "text": [
      "WARNING:tensorflow:Falling back from v2 loop because of error: Failed to find data adapter that can handle input: <class 'pandas.core.frame.DataFrame'>, <class 'NoneType'>\n",
      "Train on 20000 samples, validate on 10000 samples\n",
      "Epoch 1/50\n",
      "20000/20000 [==============================] - 2s 85us/sample - loss: 0.4786 - accuracy: 0.7968 - val_loss: 0.4554 - val_accuracy: 0.8070\n",
      "Epoch 2/50\n",
      "20000/20000 [==============================] - 1s 56us/sample - loss: 0.4398 - accuracy: 0.8178 - val_loss: 0.4472 - val_accuracy: 0.8119\n",
      "Epoch 3/50\n",
      "20000/20000 [==============================] - 1s 56us/sample - loss: 0.4345 - accuracy: 0.8200 - val_loss: 0.4438 - val_accuracy: 0.8128\n",
      "Epoch 4/50\n",
      "20000/20000 [==============================] - 1s 56us/sample - loss: 0.4302 - accuracy: 0.8226 - val_loss: 0.4415 - val_accuracy: 0.8137\n",
      "Epoch 5/50\n",
      "20000/20000 [==============================] - 1s 58us/sample - loss: 0.4275 - accuracy: 0.8219 - val_loss: 0.4415 - val_accuracy: 0.8147\n",
      "Epoch 6/50\n",
      "20000/20000 [==============================] - 1s 56us/sample - loss: 0.4255 - accuracy: 0.8227 - val_loss: 0.4414 - val_accuracy: 0.8143\n",
      "Epoch 7/50\n",
      "20000/20000 [==============================] - 1s 59us/sample - loss: 0.4234 - accuracy: 0.8251 - val_loss: 0.4413 - val_accuracy: 0.8142\n",
      "Epoch 8/50\n",
      "20000/20000 [==============================] - 1s 61us/sample - loss: 0.4223 - accuracy: 0.8251 - val_loss: 0.4410 - val_accuracy: 0.8125\n",
      "Epoch 9/50\n",
      "20000/20000 [==============================] - 1s 58us/sample - loss: 0.4217 - accuracy: 0.8248 - val_loss: 0.4401 - val_accuracy: 0.8146\n",
      "Epoch 10/50\n",
      "20000/20000 [==============================] - 1s 58us/sample - loss: 0.4202 - accuracy: 0.8248 - val_loss: 0.4421 - val_accuracy: 0.8138\n",
      "Epoch 11/50\n",
      "20000/20000 [==============================] - 1s 59us/sample - loss: 0.4196 - accuracy: 0.8253 - val_loss: 0.4432 - val_accuracy: 0.8145\n",
      "Epoch 12/50\n",
      "20000/20000 [==============================] - 1s 61us/sample - loss: 0.4192 - accuracy: 0.8252 - val_loss: 0.4421 - val_accuracy: 0.8147\n"
     ]
    }
   ],
   "source": [
    "from keras.callbacks import EarlyStopping\n",
    "early_stopping_monitor = EarlyStopping(monitor = 'val_loss',patience=3)\n",
    "b_history5 = baseline_model5.fit(training_examples, training_targets, epochs=EPOCHS,\n",
    "                    validation_data= (validation_examples, validation_targets), verbose=1,\n",
    "                    callbacks=[early_stopping_monitor])"
   ]
  },
  {
   "cell_type": "code",
   "execution_count": 150,
   "metadata": {},
   "outputs": [
    {
     "name": "stdout",
     "output_type": "stream",
     "text": [
      "Minimum accuracy of validation is:  0.807\n",
      "Maximum accuracy of validation is:  0.8147\n"
     ]
    }
   ],
   "source": [
    "print(\"Minimum accuracy of validation is: \", min(b_history5.history['val_accuracy']))\n",
    "print(\"Maximum accuracy of validation is: \", max(b_history5.history['val_accuracy']))"
   ]
  },
  {
   "cell_type": "code",
   "execution_count": 149,
   "metadata": {},
   "outputs": [
    {
     "name": "stdout",
     "output_type": "stream",
     "text": [
      "Minimum accuracy of model is:  0.79675\n",
      "Maximum accuracy of model is:  0.82535\n"
     ]
    }
   ],
   "source": [
    "print(\"Minimum accuracy of model is: \", min(b_history5.history['accuracy']))\n",
    "print(\"Maximum accuracy of model is: \", max(b_history5.history['accuracy']))"
   ]
  },
  {
   "cell_type": "code",
   "execution_count": 151,
   "metadata": {},
   "outputs": [
    {
     "data": {
      "image/png": "[encoded data removed]",
      "text/plain": [
       "<Figure size 1152x720 with 1 Axes>"
      ]
     },
     "metadata": {
      "needs_background": "light"
     },
     "output_type": "display_data"
    }
   ],
   "source": [
    "plot_history([('ReLU', b_history),  # ReLU activation function\n",
    "              ('tanh', b_history5)])  # model with tanh "
   ]
  },
  {
   "cell_type": "markdown",
   "metadata": {},
   "source": [
    "##### 3. Discuss the results of your comparison and provide an explanation of the results (What is the purpose of the hyperparameter, why did one value do better than the other?"
   ]
  },
  {
   "cell_type": "markdown",
   "metadata": {},
   "source": [
    "a. 1 Hidden Layer vs 2 Hidden Layers:\n",
    "\n",
    "The number of hidden layers is related to model capacity. If we increase the number of layers, the model has more capacity and is able to learn more complex functions and thus results in better performance. In this model, we see that the model with 2 hidden layers is performing slightly better than model with 1 hidden layer. The generalization error is less in model with 2 hidden layer. It is better to add more layers to the model than adding more neurons to one existing layer as deeper networks are a more efficient way of utilizing model capacity. Wide networks are very good at memorization, but not so good at generalization. On the other hand, deeper networks are good at generalization and more complex functions can be learned."
   ]
  },
  {
   "cell_type": "markdown",
   "metadata": {},
   "source": [
    "b.\tNo of neurons in hidden layers between (a)2/3 the size of the input layer, plus the size of the output layer, and (b) twice the size of the input layer:\n",
    "\n",
    "Too few neurons in hidden layers may result in underfitting while having too many neurons may result in overfitting. In this model, number of neurons in hidden layers with twice the size of the input layer is giving better results and accuracy than number of neurons with 2/3 the size of the input layer. Because by increasing the number of neurons we are increasing the capacity of the model resulting in a better performance. However, increasing it furthur might result in overfitting of the model so we need to have the right number of neurons for a model to learn the phenomena.\n"
   ]
  },
  {
   "cell_type": "markdown",
   "metadata": {},
   "source": [
    "c.\tRegularization:\n",
    "\n",
    "Regularization is a technique used in neural networks to reduce the generalization gap. It overcomes the issue of overfitting. When the capacity of a model is increased to reduce the training error, there is a possibility of model memorizing the data points which basically results in model performing very well on training data but gives poor performance on new data or validation data. This issue can be resolved using regularization. In this model, I have used L1 which performs the feature selection and overcomes the issue of overfitting and generaization error. "
   ]
  },
  {
   "cell_type": "markdown",
   "metadata": {},
   "source": [
    "d.\tActivation function - ReLU and your choice:\n",
    "\n",
    "The model above named 'baseline_model' is built using ReLU and another model 'baseline_model5' is built using tanh activation function. ReLU is performing better than tanh in terms of accuracy and generalization. ReLU builds more sparse model i.e. neurons are removed if they are not contributing to the model's predictive power. 'baseline_model' uses ReLU in input and hidden layers and sigmoid function for output layer. ReLu is less computationally expensive than tanh because it involves simpler mathematical operations and sigmoid function is used in the output layer for binary classification. \n",
    "\n",
    "'baseline_model5' uses tanh in input and hidden layers and sigmoid as output function. We cannot use tanh as output function for binary classification because its range is (-1,1). tanh is better at handling negative values. But, it is computationally more expensive than ReLU."
   ]
  },
  {
   "cell_type": "markdown",
   "metadata": {},
   "source": [
    "#### Conclusion: "
   ]
  },
  {
   "cell_type": "markdown",
   "metadata": {},
   "source": [
    "The output type of this model is binary so the activation function used here is 'sigmoid', loss function is 'binary_crossentropy', optimizer is 'rmsprop' and metric used is 'accuracy'. This is a case of imbalanced binary classification model which is why we also need to check other metrics such as f1 score and recall to evaluate our model. The minimum validation accuracy of this model is 81% and is exceeding baseline accuracy (77.7%). It is also performing well on f1 score, precision and recall."
   ]
  }
 ],
 "metadata": {
  "kernelspec": {
   "display_name": "Python 3",
   "language": "python",
   "name": "python3"
  },
  "language_info": {
   "codemirror_mode": {
    "name": "ipython",
    "version": 3
   },
   "file_extension": ".py",
   "mimetype": "text/x-python",
   "name": "python",
   "nbconvert_exporter": "python",
   "pygments_lexer": "ipython3",
   "version": "3.7.3"
  }
 },
 "nbformat": 4,
 "nbformat_minor": 2
}
