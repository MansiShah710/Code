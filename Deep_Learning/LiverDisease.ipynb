{
 "cells": [
  {
   "cell_type": "markdown",
   "metadata": {},
   "source": [
    "#### Build a model to predict liver disease."
   ]
  },
  {
   "cell_type": "markdown",
   "metadata": {},
   "source": [
    "### Import Libraries"
   ]
  },
  {
   "cell_type": "code",
   "execution_count": 19,
   "metadata": {},
   "outputs": [
    {
     "name": "stdout",
     "output_type": "stream",
     "text": [
      "The tensorboard extension is already loaded. To reload it, use:\n",
      "  %reload_ext tensorboard\n",
      "2.0.0\n"
     ]
    }
   ],
   "source": [
    "%load_ext tensorboard\n",
    "from numpy.random import seed\n",
    "seed(2)\n",
    "import tensorflow as tf\n",
    "from tensorflow import keras\n",
    "from IPython import display\n",
    "from matplotlib import cm\n",
    "from matplotlib import gridspec\n",
    "from matplotlib import pyplot as plt\n",
    "import numpy as np\n",
    "import pandas as pd\n",
    "from tensorflow.python.data import Dataset\n",
    "from sklearn import preprocessing\n",
    "from sklearn.preprocessing import StandardScaler\n",
    "from keras.callbacks import EarlyStopping\n",
    "from keras.optimizers import SGD\n",
    "print(tf.__version__)"
   ]
  },
  {
   "cell_type": "markdown",
   "metadata": {},
   "source": [
    "### Import Data"
   ]
  },
  {
   "cell_type": "code",
   "execution_count": 20,
   "metadata": {},
   "outputs": [],
   "source": [
    "pd.options.display.max_rows = 10\n",
    "pd.options.display.float_format = '{:.1f}'.format\n",
    "\n",
    "liver_dataframe = pd.read_csv(\"LiverData.csv\", sep=\",\")\n",
    "\n",
    "liver_dataframe = liver_dataframe.reindex(\n",
    "np.random.permutation(liver_dataframe.index))"
   ]
  },
  {
   "cell_type": "code",
   "execution_count": 21,
   "metadata": {},
   "outputs": [
    {
     "data": {
      "text/plain": [
       "(1385, 28)"
      ]
     },
     "execution_count": 21,
     "metadata": {},
     "output_type": "execute_result"
    }
   ],
   "source": [
    "# Check rows and columns\n",
    "liver_dataframe.shape"
   ]
  },
  {
   "cell_type": "markdown",
   "metadata": {},
   "source": [
    "### Data Preperation"
   ]
  },
  {
   "cell_type": "markdown",
   "metadata": {},
   "source": [
    "#### Convert target variable 'Class' from string labels to integer:"
   ]
  },
  {
   "cell_type": "code",
   "execution_count": 22,
   "metadata": {},
   "outputs": [],
   "source": [
    "output_targets = pd.DataFrame(liver_dataframe, columns =[\"Class\"])\n",
    "output_targets['Class'] = output_targets.Class.astype(\"category\").cat.codes"
   ]
  },
  {
   "cell_type": "markdown",
   "metadata": {},
   "source": [
    "#### Seperate dataframes for numerical and categorical variables"
   ]
  },
  {
   "cell_type": "code",
   "execution_count": 23,
   "metadata": {},
   "outputs": [],
   "source": [
    "Categorical_features = pd.DataFrame(liver_dataframe, columns = [\"Gender\", \"Fever\", \"Nausea/Vomting\",\"Headache \", \"Diarrhea \", \"Fatigue & generalized bone ache \", \"Jaundice \", \"Epigastric pain \"])\n",
    "Numerical_features = pd.DataFrame(liver_dataframe, columns = [\"Age \",\"BMI\", \"WBC\", \"RBC\", \"HGB\", \"Plat\", \"AST 1\", \"ALT 1\", \"ALT4\", \"ALT 12\", \"ALT 24\", \"ALT 36\", \"ALT 48\", \"ALT after 24 w\", \"RNA Base\", \"RNA 4\", \"RNA 12\", \"RNA EOT\", \"RNA EF\"])                               "
   ]
  },
  {
   "cell_type": "markdown",
   "metadata": {},
   "source": [
    "#### Encode categorical variables"
   ]
  },
  {
   "cell_type": "code",
   "execution_count": 24,
   "metadata": {},
   "outputs": [],
   "source": [
    "Categorical_features['Gender'] = Categorical_features['Gender'].astype('category').cat.codes\n",
    "Categorical_features['Fever'] = Categorical_features['Fever'].astype('category').cat.codes\n",
    "Categorical_features['Nausea/Vomting'] = Categorical_features['Nausea/Vomting'].astype('category').cat.codes\n",
    "Categorical_features['Headache '] = Categorical_features['Headache '].astype('category').cat.codes\n",
    "Categorical_features['Diarrhea '] = Categorical_features['Diarrhea '].astype('category').cat.codes\n",
    "Categorical_features['Fatigue & generalized bone ache '] = Categorical_features['Fatigue & generalized bone ache '].astype('category').cat.codes\n",
    "Categorical_features['Jaundice '] = Categorical_features['Jaundice '].astype('category').cat.codes\n",
    "Categorical_features['Epigastric pain '] = Categorical_features['Epigastric pain '].astype('category').cat.codes"
   ]
  },
  {
   "cell_type": "markdown",
   "metadata": {},
   "source": [
    "#### Train/Validation Split"
   ]
  },
  {
   "cell_type": "code",
   "execution_count": 25,
   "metadata": {},
   "outputs": [
    {
     "name": "stdout",
     "output_type": "stream",
     "text": [
      "First few rows of training data:\n"
     ]
    },
    {
     "data": {
      "text/html": [
       "<div>\n",
       "<style scoped>\n",
       "    .dataframe tbody tr th:only-of-type {\n",
       "        vertical-align: middle;\n",
       "    }\n",
       "\n",
       "    .dataframe tbody tr th {\n",
       "        vertical-align: top;\n",
       "    }\n",
       "\n",
       "    .dataframe thead th {\n",
       "        text-align: right;\n",
       "    }\n",
       "</style>\n",
       "<table border=\"1\" class=\"dataframe\">\n",
       "  <thead>\n",
       "    <tr style=\"text-align: right;\">\n",
       "      <th></th>\n",
       "      <th>Gender</th>\n",
       "      <th>Fever</th>\n",
       "      <th>Nausea/Vomting</th>\n",
       "      <th>Headache</th>\n",
       "      <th>Diarrhea</th>\n",
       "      <th>Fatigue &amp; generalized bone ache</th>\n",
       "      <th>Jaundice</th>\n",
       "      <th>Epigastric pain</th>\n",
       "      <th>Age</th>\n",
       "      <th>BMI</th>\n",
       "      <th>...</th>\n",
       "      <th>ALT 12</th>\n",
       "      <th>ALT 24</th>\n",
       "      <th>ALT 36</th>\n",
       "      <th>ALT 48</th>\n",
       "      <th>ALT after 24 w</th>\n",
       "      <th>RNA Base</th>\n",
       "      <th>RNA 4</th>\n",
       "      <th>RNA 12</th>\n",
       "      <th>RNA EOT</th>\n",
       "      <th>RNA EF</th>\n",
       "    </tr>\n",
       "  </thead>\n",
       "  <tbody>\n",
       "    <tr>\n",
       "      <th>930</th>\n",
       "      <td>1.0</td>\n",
       "      <td>1.0</td>\n",
       "      <td>1.0</td>\n",
       "      <td>-1.0</td>\n",
       "      <td>-1.0</td>\n",
       "      <td>1.0</td>\n",
       "      <td>-1.0</td>\n",
       "      <td>-1.0</td>\n",
       "      <td>-0.8</td>\n",
       "      <td>-0.1</td>\n",
       "      <td>...</td>\n",
       "      <td>1.0</td>\n",
       "      <td>0.9</td>\n",
       "      <td>-0.6</td>\n",
       "      <td>-1.0</td>\n",
       "      <td>-0.1</td>\n",
       "      <td>1.2</td>\n",
       "      <td>-0.8</td>\n",
       "      <td>-1.0</td>\n",
       "      <td>-1.1</td>\n",
       "      <td>-1.1</td>\n",
       "    </tr>\n",
       "    <tr>\n",
       "      <th>199</th>\n",
       "      <td>-1.0</td>\n",
       "      <td>1.0</td>\n",
       "      <td>-1.0</td>\n",
       "      <td>1.0</td>\n",
       "      <td>1.0</td>\n",
       "      <td>-1.0</td>\n",
       "      <td>-1.0</td>\n",
       "      <td>1.0</td>\n",
       "      <td>0.9</td>\n",
       "      <td>0.1</td>\n",
       "      <td>...</td>\n",
       "      <td>1.5</td>\n",
       "      <td>0.9</td>\n",
       "      <td>1.4</td>\n",
       "      <td>0.5</td>\n",
       "      <td>0.1</td>\n",
       "      <td>1.7</td>\n",
       "      <td>-1.7</td>\n",
       "      <td>0.9</td>\n",
       "      <td>1.8</td>\n",
       "      <td>-0.7</td>\n",
       "    </tr>\n",
       "    <tr>\n",
       "      <th>1359</th>\n",
       "      <td>1.0</td>\n",
       "      <td>1.0</td>\n",
       "      <td>-1.0</td>\n",
       "      <td>1.0</td>\n",
       "      <td>-1.0</td>\n",
       "      <td>-1.0</td>\n",
       "      <td>-1.0</td>\n",
       "      <td>1.0</td>\n",
       "      <td>-1.3</td>\n",
       "      <td>-1.4</td>\n",
       "      <td>...</td>\n",
       "      <td>-1.0</td>\n",
       "      <td>0.9</td>\n",
       "      <td>-0.3</td>\n",
       "      <td>-0.3</td>\n",
       "      <td>-0.8</td>\n",
       "      <td>-0.7</td>\n",
       "      <td>-0.1</td>\n",
       "      <td>1.6</td>\n",
       "      <td>0.2</td>\n",
       "      <td>1.2</td>\n",
       "    </tr>\n",
       "    <tr>\n",
       "      <th>861</th>\n",
       "      <td>-1.0</td>\n",
       "      <td>1.0</td>\n",
       "      <td>-1.0</td>\n",
       "      <td>-1.0</td>\n",
       "      <td>-1.0</td>\n",
       "      <td>1.0</td>\n",
       "      <td>-1.0</td>\n",
       "      <td>-1.0</td>\n",
       "      <td>1.0</td>\n",
       "      <td>1.1</td>\n",
       "      <td>...</td>\n",
       "      <td>-0.4</td>\n",
       "      <td>-0.6</td>\n",
       "      <td>1.1</td>\n",
       "      <td>-1.3</td>\n",
       "      <td>1.6</td>\n",
       "      <td>-1.5</td>\n",
       "      <td>-1.3</td>\n",
       "      <td>-1.0</td>\n",
       "      <td>-1.1</td>\n",
       "      <td>-1.1</td>\n",
       "    </tr>\n",
       "    <tr>\n",
       "      <th>387</th>\n",
       "      <td>-1.0</td>\n",
       "      <td>-1.0</td>\n",
       "      <td>1.0</td>\n",
       "      <td>-1.0</td>\n",
       "      <td>-1.0</td>\n",
       "      <td>1.0</td>\n",
       "      <td>-1.0</td>\n",
       "      <td>1.0</td>\n",
       "      <td>-0.7</td>\n",
       "      <td>0.8</td>\n",
       "      <td>...</td>\n",
       "      <td>1.3</td>\n",
       "      <td>1.2</td>\n",
       "      <td>-1.4</td>\n",
       "      <td>-1.2</td>\n",
       "      <td>-1.2</td>\n",
       "      <td>-1.6</td>\n",
       "      <td>-1.5</td>\n",
       "      <td>-1.0</td>\n",
       "      <td>-1.1</td>\n",
       "      <td>-1.1</td>\n",
       "    </tr>\n",
       "    <tr>\n",
       "      <th>436</th>\n",
       "      <td>-1.0</td>\n",
       "      <td>1.0</td>\n",
       "      <td>1.0</td>\n",
       "      <td>1.0</td>\n",
       "      <td>-1.0</td>\n",
       "      <td>-1.0</td>\n",
       "      <td>1.0</td>\n",
       "      <td>-1.0</td>\n",
       "      <td>1.3</td>\n",
       "      <td>0.6</td>\n",
       "      <td>...</td>\n",
       "      <td>1.2</td>\n",
       "      <td>-1.6</td>\n",
       "      <td>0.5</td>\n",
       "      <td>0.1</td>\n",
       "      <td>-1.2</td>\n",
       "      <td>-1.6</td>\n",
       "      <td>0.6</td>\n",
       "      <td>0.6</td>\n",
       "      <td>-0.5</td>\n",
       "      <td>-0.1</td>\n",
       "    </tr>\n",
       "    <tr>\n",
       "      <th>1364</th>\n",
       "      <td>-1.0</td>\n",
       "      <td>1.0</td>\n",
       "      <td>-1.0</td>\n",
       "      <td>-1.0</td>\n",
       "      <td>-1.0</td>\n",
       "      <td>1.0</td>\n",
       "      <td>-1.0</td>\n",
       "      <td>-1.0</td>\n",
       "      <td>1.5</td>\n",
       "      <td>-1.6</td>\n",
       "      <td>...</td>\n",
       "      <td>0.9</td>\n",
       "      <td>1.1</td>\n",
       "      <td>-0.3</td>\n",
       "      <td>-0.6</td>\n",
       "      <td>0.1</td>\n",
       "      <td>0.8</td>\n",
       "      <td>1.6</td>\n",
       "      <td>1.3</td>\n",
       "      <td>1.6</td>\n",
       "      <td>1.4</td>\n",
       "    </tr>\n",
       "    <tr>\n",
       "      <th>540</th>\n",
       "      <td>-1.0</td>\n",
       "      <td>-1.0</td>\n",
       "      <td>-1.0</td>\n",
       "      <td>-1.0</td>\n",
       "      <td>-1.0</td>\n",
       "      <td>1.0</td>\n",
       "      <td>1.0</td>\n",
       "      <td>-1.0</td>\n",
       "      <td>-0.4</td>\n",
       "      <td>1.1</td>\n",
       "      <td>...</td>\n",
       "      <td>-0.5</td>\n",
       "      <td>-0.1</td>\n",
       "      <td>1.2</td>\n",
       "      <td>-0.2</td>\n",
       "      <td>1.5</td>\n",
       "      <td>0.6</td>\n",
       "      <td>-0.8</td>\n",
       "      <td>-0.8</td>\n",
       "      <td>1.4</td>\n",
       "      <td>-0.5</td>\n",
       "    </tr>\n",
       "    <tr>\n",
       "      <th>407</th>\n",
       "      <td>1.0</td>\n",
       "      <td>1.0</td>\n",
       "      <td>-1.0</td>\n",
       "      <td>-1.0</td>\n",
       "      <td>1.0</td>\n",
       "      <td>1.0</td>\n",
       "      <td>-1.0</td>\n",
       "      <td>1.0</td>\n",
       "      <td>0.9</td>\n",
       "      <td>-0.9</td>\n",
       "      <td>...</td>\n",
       "      <td>-1.6</td>\n",
       "      <td>-1.6</td>\n",
       "      <td>-1.0</td>\n",
       "      <td>0.2</td>\n",
       "      <td>0.4</td>\n",
       "      <td>1.4</td>\n",
       "      <td>0.7</td>\n",
       "      <td>0.5</td>\n",
       "      <td>-0.1</td>\n",
       "      <td>1.1</td>\n",
       "    </tr>\n",
       "    <tr>\n",
       "      <th>14</th>\n",
       "      <td>-1.0</td>\n",
       "      <td>1.0</td>\n",
       "      <td>1.0</td>\n",
       "      <td>1.0</td>\n",
       "      <td>-1.0</td>\n",
       "      <td>1.0</td>\n",
       "      <td>-1.0</td>\n",
       "      <td>-1.0</td>\n",
       "      <td>-0.7</td>\n",
       "      <td>0.8</td>\n",
       "      <td>...</td>\n",
       "      <td>0.8</td>\n",
       "      <td>0.2</td>\n",
       "      <td>1.1</td>\n",
       "      <td>1.1</td>\n",
       "      <td>0.4</td>\n",
       "      <td>1.5</td>\n",
       "      <td>1.4</td>\n",
       "      <td>0.4</td>\n",
       "      <td>0.6</td>\n",
       "      <td>-0.6</td>\n",
       "    </tr>\n",
       "  </tbody>\n",
       "</table>\n",
       "<p>10 rows × 27 columns</p>\n",
       "</div>"
      ],
      "text/plain": [
       "      Gender  Fever  Nausea/Vomting  Headache   Diarrhea   \\\n",
       "930      1.0    1.0             1.0       -1.0       -1.0   \n",
       "199     -1.0    1.0            -1.0        1.0        1.0   \n",
       "1359     1.0    1.0            -1.0        1.0       -1.0   \n",
       "861     -1.0    1.0            -1.0       -1.0       -1.0   \n",
       "387     -1.0   -1.0             1.0       -1.0       -1.0   \n",
       "436     -1.0    1.0             1.0        1.0       -1.0   \n",
       "1364    -1.0    1.0            -1.0       -1.0       -1.0   \n",
       "540     -1.0   -1.0            -1.0       -1.0       -1.0   \n",
       "407      1.0    1.0            -1.0       -1.0        1.0   \n",
       "14      -1.0    1.0             1.0        1.0       -1.0   \n",
       "\n",
       "      Fatigue & generalized bone ache   Jaundice   Epigastric pain   Age   \\\n",
       "930                                1.0       -1.0              -1.0  -0.8   \n",
       "199                               -1.0       -1.0               1.0   0.9   \n",
       "1359                              -1.0       -1.0               1.0  -1.3   \n",
       "861                                1.0       -1.0              -1.0   1.0   \n",
       "387                                1.0       -1.0               1.0  -0.7   \n",
       "436                               -1.0        1.0              -1.0   1.3   \n",
       "1364                               1.0       -1.0              -1.0   1.5   \n",
       "540                                1.0        1.0              -1.0  -0.4   \n",
       "407                                1.0       -1.0               1.0   0.9   \n",
       "14                                 1.0       -1.0              -1.0  -0.7   \n",
       "\n",
       "      BMI  ...  ALT 12  ALT 24  ALT 36  ALT 48  ALT after 24 w  RNA Base  \\\n",
       "930  -0.1  ...     1.0     0.9    -0.6    -1.0            -0.1       1.2   \n",
       "199   0.1  ...     1.5     0.9     1.4     0.5             0.1       1.7   \n",
       "1359 -1.4  ...    -1.0     0.9    -0.3    -0.3            -0.8      -0.7   \n",
       "861   1.1  ...    -0.4    -0.6     1.1    -1.3             1.6      -1.5   \n",
       "387   0.8  ...     1.3     1.2    -1.4    -1.2            -1.2      -1.6   \n",
       "436   0.6  ...     1.2    -1.6     0.5     0.1            -1.2      -1.6   \n",
       "1364 -1.6  ...     0.9     1.1    -0.3    -0.6             0.1       0.8   \n",
       "540   1.1  ...    -0.5    -0.1     1.2    -0.2             1.5       0.6   \n",
       "407  -0.9  ...    -1.6    -1.6    -1.0     0.2             0.4       1.4   \n",
       "14    0.8  ...     0.8     0.2     1.1     1.1             0.4       1.5   \n",
       "\n",
       "      RNA 4  RNA 12  RNA EOT  RNA EF  \n",
       "930    -0.8    -1.0     -1.1    -1.1  \n",
       "199    -1.7     0.9      1.8    -0.7  \n",
       "1359   -0.1     1.6      0.2     1.2  \n",
       "861    -1.3    -1.0     -1.1    -1.1  \n",
       "387    -1.5    -1.0     -1.1    -1.1  \n",
       "436     0.6     0.6     -0.5    -0.1  \n",
       "1364    1.6     1.3      1.6     1.4  \n",
       "540    -0.8    -0.8      1.4    -0.5  \n",
       "407     0.7     0.5     -0.1     1.1  \n",
       "14      1.4     0.4      0.6    -0.6  \n",
       "\n",
       "[10 rows x 27 columns]"
      ]
     },
     "execution_count": 25,
     "metadata": {},
     "output_type": "execute_result"
    }
   ],
   "source": [
    "# Choose the first 1100 examples for training.\n",
    "training_examples = (pd.concat([Categorical_features, Numerical_features], axis=1, sort=False)).head(1100)\n",
    "training_target = output_targets.head(1100)\n",
    "\n",
    "# Normalize the training data\n",
    "scaler = StandardScaler().fit(training_examples.values)\n",
    "scaledf = scaler.transform(training_examples.values)\n",
    "training_examples = pd.DataFrame(scaledf, index=training_examples.index, columns=training_examples.columns)\n",
    "\n",
    "# Choose 285 examples for validation.\n",
    "validation_examples = (pd.concat([Categorical_features, Numerical_features], axis=1, sort=False)).tail(285)\n",
    "validation_target = output_targets.tail(285)\n",
    "\n",
    "# Normalize the validation data\n",
    "scaler = StandardScaler().fit(validation_examples.values)\n",
    "scaledf = scaler.transform(validation_examples.values)\n",
    "validation_examples = pd.DataFrame(scaledf, index=validation_examples.index, columns=validation_examples.columns)\n",
    "\n",
    "# Print first few rows of training data:\n",
    "print(\"First few rows of training data:\")\n",
    "training_examples.head(10)\n"
   ]
  },
  {
   "cell_type": "code",
   "execution_count": 26,
   "metadata": {},
   "outputs": [
    {
     "name": "stdout",
     "output_type": "stream",
     "text": [
      "check the distribution of training target:\n",
      "0   26.8\n",
      "2   26.7\n",
      "3   23.9\n",
      "1   22.5\n",
      "Name: Class, dtype: float64\n",
      "check the distribution of validation target:\n",
      "1   29.5\n",
      "3   25.6\n",
      "0   23.5\n",
      "2   21.4\n",
      "Name: Class, dtype: float64\n"
     ]
    }
   ],
   "source": [
    "# Check the baseline:\n",
    "print(\"check the distribution of training target:\")\n",
    "frequency = training_target['Class'].value_counts(normalize =True)\n",
    "print(frequency * 100)\n",
    "\n",
    "print(\"check the distribution of validation target:\")\n",
    "frequency = validation_target['Class'].value_counts(normalize =True)\n",
    "print(frequency * 100)\n",
    "\n",
    "# Based on the majority classification, baseline would be 26.8"
   ]
  },
  {
   "cell_type": "markdown",
   "metadata": {},
   "source": [
    "### Build Model"
   ]
  },
  {
   "cell_type": "code",
   "execution_count": 29,
   "metadata": {},
   "outputs": [
    {
     "name": "stdout",
     "output_type": "stream",
     "text": [
      "Model: \"sequential_7\"\n",
      "_________________________________________________________________\n",
      "Layer (type)                 Output Shape              Param #   \n",
      "=================================================================\n",
      "dense_21 (Dense)             (None, 27)                756       \n",
      "_________________________________________________________________\n",
      "dense_22 (Dense)             (None, 54)                1512      \n",
      "_________________________________________________________________\n",
      "dense_23 (Dense)             (None, 54)                2970      \n",
      "_________________________________________________________________\n",
      "dense_24 (Dense)             (None, 4)                 220       \n",
      "=================================================================\n",
      "Total params: 5,458\n",
      "Trainable params: 5,458\n",
      "Non-trainable params: 0\n",
      "_________________________________________________________________\n"
     ]
    }
   ],
   "source": [
    "baseline_model = keras.Sequential([\n",
    "    keras.layers.Dense(27, activation=tf.nn.relu,\n",
    "                       input_shape=(training_examples.shape[1],)),\n",
    "    keras.layers.Dense(54, activation=tf.nn.relu),\n",
    "    keras.layers.Dense(54, activation=tf.nn.relu),\n",
    "    keras.layers.Dense(4, activation=tf.nn.softmax)\n",
    "  ])\n",
    "\n",
    "baseline_model.compile(loss='sparse_categorical_crossentropy',\n",
    "                optimizer= 'adam',\n",
    "                metrics=['accuracy'])\n",
    "baseline_model.summary()"
   ]
  },
  {
   "cell_type": "markdown",
   "metadata": {},
   "source": [
    "### Fit Model"
   ]
  },
  {
   "cell_type": "code",
   "execution_count": 30,
   "metadata": {},
   "outputs": [
    {
     "name": "stdout",
     "output_type": "stream",
     "text": [
      "WARNING:tensorflow:Falling back from v2 loop because of error: Failed to find data adapter that can handle input: <class 'pandas.core.frame.DataFrame'>, <class 'NoneType'>\n",
      "Train on 1100 samples, validate on 285 samples\n",
      "Epoch 1/50\n",
      "1100/1100 [==============================] - 1s 521us/sample - loss: 1.4095 - accuracy: 0.2373 - val_loss: 1.4010 - val_accuracy: 0.2386\n",
      "Epoch 2/50\n",
      "1100/1100 [==============================] - 0s 94us/sample - loss: 1.3682 - accuracy: 0.3027 - val_loss: 1.4087 - val_accuracy: 0.2421\n",
      "Epoch 3/50\n",
      "1100/1100 [==============================] - 0s 89us/sample - loss: 1.3462 - accuracy: 0.3455 - val_loss: 1.4106 - val_accuracy: 0.2526\n",
      "Epoch 4/50\n",
      "1100/1100 [==============================] - 0s 87us/sample - loss: 1.3281 - accuracy: 0.3736 - val_loss: 1.4136 - val_accuracy: 0.2667\n"
     ]
    }
   ],
   "source": [
    "EPOCHS = 50\n",
    "early_stopping_monitor = EarlyStopping(monitor = 'val_loss',patience=3)\n",
    "b_history = baseline_model.fit(training_examples, training_target, epochs=EPOCHS,\n",
    "                    validation_data= (validation_examples, validation_target), verbose=1,\n",
    "                    callbacks=[early_stopping_monitor])\n"
   ]
  },
  {
   "cell_type": "markdown",
   "metadata": {},
   "source": [
    "#### Check the minimum and maximum validation accuracy"
   ]
  },
  {
   "cell_type": "code",
   "execution_count": 37,
   "metadata": {},
   "outputs": [
    {
     "name": "stdout",
     "output_type": "stream",
     "text": [
      "Minimum accuracy of validation:  0.3122807\n",
      "Maximum accuracy of validation:  0.34736842\n"
     ]
    }
   ],
   "source": [
    "print(\"Minimum accuracy of validation: \", min(b_history.history['val_accuracy']))\n",
    "print(\"Maximum accuracy of validation: \", max(b_history.history['val_accuracy']))"
   ]
  },
  {
   "cell_type": "markdown",
   "metadata": {},
   "source": [
    "#### Check the minimum and maximum model accuracy"
   ]
  },
  {
   "cell_type": "code",
   "execution_count": 38,
   "metadata": {},
   "outputs": [
    {
     "name": "stdout",
     "output_type": "stream",
     "text": [
      "Minimum accuracy of Model:  0.24090908\n",
      "Maximum accuracy of Model:  0.40545455\n"
     ]
    }
   ],
   "source": [
    "print(\"Minimum accuracy of Model: \", min(b_history.history['accuracy']))\n",
    "print(\"Maximum accuracy of Model: \", max(b_history.history['accuracy']))"
   ]
  },
  {
   "cell_type": "markdown",
   "metadata": {},
   "source": [
    "### Predictions"
   ]
  },
  {
   "cell_type": "code",
   "execution_count": 39,
   "metadata": {},
   "outputs": [
    {
     "name": "stdout",
     "output_type": "stream",
     "text": [
      "tf.Tensor(\n",
      "[[0.4749688  0.1575317  0.18802285 0.17947677]\n",
      " [0.18030389 0.25298968 0.31735528 0.24935117]\n",
      " [0.25819317 0.21709281 0.27936983 0.24534418]\n",
      " [0.25370726 0.1871491  0.33976525 0.21937846]\n",
      " [0.31644797 0.09967319 0.3683745  0.21550427]\n",
      " [0.22077087 0.15328193 0.31433156 0.31161556]\n",
      " [0.19560115 0.34365508 0.22395499 0.2367888 ]\n",
      " [0.26274443 0.25131926 0.28861526 0.19732101]\n",
      " [0.4204934  0.17313224 0.19056126 0.21581315]], shape=(9, 4), dtype=float32)\n"
     ]
    }
   ],
   "source": [
    "valpreds = baseline_model.predict_on_batch(validation_examples.iloc[1:10])\n",
    "print(valpreds)"
   ]
  },
  {
   "cell_type": "code",
   "execution_count": 41,
   "metadata": {},
   "outputs": [
    {
     "name": "stdout",
     "output_type": "stream",
     "text": [
      "      Class\n",
      "1129      0\n",
      "306       3\n",
      "415       1\n",
      "1354      1\n",
      "1169      2\n",
      "428       1\n",
      "186       0\n",
      "1005      2\n",
      "908       0\n"
     ]
    }
   ],
   "source": [
    "with pd.option_context('display.max_rows', None, 'display.max_columns', None):\n",
    "    print(validation_target.iloc[1:10])"
   ]
  },
  {
   "cell_type": "markdown",
   "metadata": {},
   "source": [
    "### Plot Results"
   ]
  },
  {
   "cell_type": "code",
   "execution_count": 42,
   "metadata": {},
   "outputs": [
    {
     "data": {
      "image/png": "[encoded data removed]",
      "text/plain": [
       "<Figure size 1152x720 with 1 Axes>"
      ]
     },
     "metadata": {
      "needs_background": "light"
     },
     "output_type": "display_data"
    }
   ],
   "source": [
    "import matplotlib.pyplot as plt\n",
    "\n",
    "\n",
    "def plot_history(histories, key='accuracy'):\n",
    "  plt.figure(figsize=(16,10))\n",
    "  for name, history in histories:\n",
    "    val = plt.plot(history.epoch, history.history['val_'+key],\n",
    "                   '--', label=name.title()+' Val')\n",
    "    plt.plot(history.epoch, history.history[key], color=val[0].get_color(),\n",
    "             label=name.title()+' Train')\n",
    "\n",
    "  plt.xlabel('Epochs')\n",
    "  plt.ylabel(key.replace('_',' ').title())\n",
    "  plt.legend()\n",
    "\n",
    "  plt.xlim([0,max(history.epoch)])\n",
    "  plt.ylim([0,1])\n",
    "\n",
    "plot_history([('baseline', b_history)])\n",
    "\n",
    "  "
   ]
  },
  {
   "cell_type": "markdown",
   "metadata": {},
   "source": [
    "#### Conclusion:"
   ]
  },
  {
   "cell_type": "markdown",
   "metadata": {},
   "source": [
    "The output of this model is discrete so the activation function used here is 'softmax', loss function as 'sparse_categorical_crossentropy' , optimizer as 'adam' and metric as 'accuracy'. The baseline for this model is calculated using majority classification rule. The majority class here is 'Cirrhosis' (coded as 0 class). The baseline accuracy is 26.8. The model is able to exceed baseline performance with minimum accuracy of 31% and maximum accuracy of 34%. "
   ]
  }
 ],
 "metadata": {
  "kernelspec": {
   "display_name": "Python 3",
   "language": "python",
   "name": "python3"
  },
  "language_info": {
   "codemirror_mode": {
    "name": "ipython",
    "version": 3
   },
   "file_extension": ".py",
   "mimetype": "text/x-python",
   "name": "python",
   "nbconvert_exporter": "python",
   "pygments_lexer": "ipython3",
   "version": "3.7.3"
  }
 },
 "nbformat": 4,
 "nbformat_minor": 2
}
